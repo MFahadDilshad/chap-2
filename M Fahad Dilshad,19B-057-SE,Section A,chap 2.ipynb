{
 "cells": [
  {
   "cell_type": "code",
   "execution_count": 1,
   "metadata": {},
   "outputs": [
    {
     "name": "stdout",
     "output_type": "stream",
     "text": [
      "15\n"
     ]
    }
   ],
   "source": [
    "#problem no 2.1\n",
    "#part(a)\n",
    "#sum of first five positive integers\n",
    "sum=1+2+3+4+5\n",
    "print(sum)"
   ]
  },
  {
   "cell_type": "code",
   "execution_count": 2,
   "metadata": {},
   "outputs": [
    {
     "name": "stdout",
     "output_type": "stream",
     "text": [
      "24.333333333333332\n"
     ]
    }
   ],
   "source": [
    "#problem no 2.1\n",
    "#part(b)\n",
    "Sara_age=23\n",
    "Mark_age=19\n",
    "Fatima_age=31\n",
    "average=(Sara_age+Mark_age+Fatima_age)/3\n",
    "print(average)"
   ]
  },
  {
   "cell_type": "code",
   "execution_count": 3,
   "metadata": {},
   "outputs": [
    {
     "name": "stdout",
     "output_type": "stream",
     "text": [
      "57\n"
     ]
    }
   ],
   "source": [
    "#problem no 2.1\n",
    "#part(c)\n",
    "#how many times 73 goes into 403\n",
    "c=403//7\n",
    "print(c)"
   ]
  },
  {
   "cell_type": "code",
   "execution_count": 4,
   "metadata": {},
   "outputs": [
    {
     "name": "stdout",
     "output_type": "stream",
     "text": [
      "the reminder when 403 is devided by 73: 4\n"
     ]
    }
   ],
   "source": [
    "#problem no 2.1\n",
    "#part(d)\n",
    "#the reminder when 403 is devided by 73\n",
    "a=403%7\n",
    "print(\"the reminder when 403 is devided by 73:\",a)"
   ]
  },
  {
   "cell_type": "code",
   "execution_count": 5,
   "metadata": {},
   "outputs": [
    {
     "name": "stdout",
     "output_type": "stream",
     "text": [
      "2 to the power 10 is: 1024\n"
     ]
    }
   ],
   "source": [
    "#problem no 2.1\n",
    "#part(e)\n",
    "#2 to the power 10\n",
    "power=2**10\n",
    "print(\"2 to the power 10 is:\",power)"
   ]
  },
  {
   "cell_type": "code",
   "execution_count": 7,
   "metadata": {},
   "outputs": [
    {
     "name": "stdout",
     "output_type": "stream",
     "text": [
      "3\n"
     ]
    }
   ],
   "source": [
    "#problem no 2.1\n",
    "#part(f)\n",
    "#absolute value os srahs and marks height\n",
    "diff=abs(57-54)\n",
    "print(diff)"
   ]
  },
  {
   "cell_type": "code",
   "execution_count": 8,
   "metadata": {},
   "outputs": [
    {
     "data": {
      "text/plain": [
       "29.95"
      ]
     },
     "execution_count": 8,
     "metadata": {},
     "output_type": "execute_result"
    }
   ],
   "source": [
    "#problem no 2.1\n",
    "#part(g)\n",
    "#the lowes price among the following\n",
    "price1= 34.99 #in dollars\n",
    "price2=29.95 #in dollar\n",
    "price3=31.50 #in dollar\n",
    "min(price1,price2,price3)"
   ]
  },
  {
   "cell_type": "code",
   "execution_count": 10,
   "metadata": {},
   "outputs": [
    {
     "data": {
      "text/plain": [
       "False"
      ]
     },
     "execution_count": 10,
     "metadata": {},
     "output_type": "execute_result"
    }
   ],
   "source": [
    "#problem no 2.2\n",
    "#part(a)\n",
    "#the sum of 2 and 2 is less than 4\n",
    "2+2<4"
   ]
  },
  {
   "cell_type": "code",
   "execution_count": 14,
   "metadata": {},
   "outputs": [
    {
     "data": {
      "text/plain": [
       "True"
      ]
     },
     "execution_count": 14,
     "metadata": {},
     "output_type": "execute_result"
    }
   ],
   "source": [
    "#problem no 2.2\n",
    "#part(b)\n",
    "7//3 ==1+1\n"
   ]
  },
  {
   "cell_type": "code",
   "execution_count": 15,
   "metadata": {},
   "outputs": [
    {
     "data": {
      "text/plain": [
       "True"
      ]
     },
     "execution_count": 15,
     "metadata": {},
     "output_type": "execute_result"
    }
   ],
   "source": [
    "#problem no 2.2\n",
    "#part(c)\n",
    "3**2+4**2 ==25"
   ]
  },
  {
   "cell_type": "code",
   "execution_count": 16,
   "metadata": {},
   "outputs": [
    {
     "data": {
      "text/plain": [
       "False"
      ]
     },
     "execution_count": 16,
     "metadata": {},
     "output_type": "execute_result"
    }
   ],
   "source": [
    "#problem no 2.2\n",
    "#part(d)\n",
    "2+4+6>12"
   ]
  },
  {
   "cell_type": "code",
   "execution_count": 17,
   "metadata": {},
   "outputs": [
    {
     "data": {
      "text/plain": [
       "True"
      ]
     },
     "execution_count": 17,
     "metadata": {},
     "output_type": "execute_result"
    }
   ],
   "source": [
    "#problem no 2.2\n",
    "#part(e)\n",
    "1387%19==0"
   ]
  },
  {
   "cell_type": "code",
   "execution_count": 18,
   "metadata": {},
   "outputs": [
    {
     "data": {
      "text/plain": [
       "False"
      ]
     },
     "execution_count": 18,
     "metadata": {},
     "output_type": "execute_result"
    }
   ],
   "source": [
    "#problem no 2.2\n",
    "#part(f)\n",
    "31%2==0"
   ]
  },
  {
   "cell_type": "code",
   "execution_count": 19,
   "metadata": {},
   "outputs": [
    {
     "data": {
      "text/plain": [
       "False"
      ]
     },
     "execution_count": 19,
     "metadata": {},
     "output_type": "execute_result"
    }
   ],
   "source": [
    "#problem no 2.2\n",
    "#part(g)\n",
    "min(34.99,31.50)<30.00"
   ]
  },
  {
   "cell_type": "code",
   "execution_count": 20,
   "metadata": {},
   "outputs": [
    {
     "name": "stdout",
     "output_type": "stream",
     "text": [
      "3\n",
      "4\n",
      "25\n"
     ]
    }
   ],
   "source": [
    "#Problem no 2.3\n",
    "#part(a)\n",
    "a=3\n",
    "print(a)\n",
    "b=4\n",
    "print(b)\n",
    "c=a * a + b * b\n",
    "print(c)"
   ]
  },
  {
   "cell_type": "code",
   "execution_count": 21,
   "metadata": {},
   "outputs": [
    {
     "name": "stdout",
     "output_type": "stream",
     "text": [
      "ant bat cod\n",
      "ant ant ant ant ant ant ant ant ant ant ant ant\n",
      "ant bat bat cod cod cod\n",
      "ant bat ant bat ant bat ant bat ant bat ant bat ant bat ant bat\n",
      "batbatcod batbatcod batbatcod\n"
     ]
    }
   ],
   "source": [
    "#practise problem no 2.4\n",
    "s1 = \"ant\"\n",
    "s2 = \"bat\"\n",
    "s3 = \"cod\"\n",
    "print(s1 , s2 , s3)\n",
    "print(s1, s1, s1, s1, s1, s1, s1, s1, s1, s1, s1, s1)\n",
    "print(s1, s2, s2, s3, s3, s3)\n",
    "print(s1,s2,s1,s2,s1,s2,s1,s2,s1,s2,s1,s2,s1,s2,s1,s2)\n",
    "print(s2+s2+s3, s2+s2+s3 , s2+s2+s3)"
   ]
  },
  {
   "cell_type": "code",
   "execution_count": 22,
   "metadata": {},
   "outputs": [
    {
     "data": {
      "text/plain": [
       "'9'"
      ]
     },
     "execution_count": 22,
     "metadata": {},
     "output_type": "execute_result"
    }
   ],
   "source": [
    "#problem 2.5\n",
    "s = \"0123456789\"\n",
    "s[1]\n",
    "s[2]\n",
    "s[6]\n",
    "s[8]\n",
    "s[9]"
   ]
  },
  {
   "cell_type": "code",
   "execution_count": 1,
   "metadata": {},
   "outputs": [
    {
     "data": {
      "text/plain": [
       "'badminton'"
      ]
     },
     "execution_count": 1,
     "metadata": {},
     "output_type": "execute_result"
    }
   ],
   "source": [
    "#problem 2.6\n",
    "words = ['bat','ball','barn','basket','badminton']\n",
    "max(words)\n",
    "min(words)"
   ]
  },
  {
   "cell_type": "code",
   "execution_count": 2,
   "metadata": {},
   "outputs": [
    {
     "data": {
      "text/plain": [
       "6.777777777777778"
      ]
     },
     "execution_count": 2,
     "metadata": {},
     "output_type": "execute_result"
    }
   ],
   "source": [
    "#problem 2.7\n",
    "grades= [9, 7, 7, 10, 3, 9, 6, 6, 2]\n",
    "grades.remove(2)\n",
    "grades.append(4)\n",
    "max(grades)\n",
    "grades.sort()\n",
    "sum(grades) / len(grades)"
   ]
  },
  {
   "cell_type": "code",
   "execution_count": 5,
   "metadata": {},
   "outputs": [
    {
     "name": "stdout",
     "output_type": "stream",
     "text": [
      "a) ((2+3) ==4) or (a >=5)\n",
      "b) (((lst[1]) * (-3)) <(-10)) ==0\n",
      "c) (((lst[1]) * (-3)) <(-10)) in [0,true]\n",
      "d) 2 * (3**2)\n",
      "e) (4/2) in [1,2,3]\n"
     ]
    }
   ],
   "source": [
    "#exercise 2.8\n",
    "print('a)','((2+3) ==4) or (a >=5)')\n",
    "print('b)','(((lst[1]) * (-3)) <(-10)) ==0')\n",
    "print('c)',\"(((lst[1]) * (-3)) <(-10)) in [0,true]\")\n",
    "print('d)','2 * (3**2)')\n",
    "print('e)','(4/2) in [1,2,3]')"
   ]
  },
  {
   "cell_type": "code",
   "execution_count": 8,
   "metadata": {},
   "outputs": [
    {
     "name": "stdout",
     "output_type": "stream",
     "text": [
      "<class 'int'>\n"
     ]
    },
    {
     "ename": "NameError",
     "evalue": "name 'b' is not defined",
     "output_type": "error",
     "traceback": [
      "\u001b[1;31m---------------------------------------------------------------------------\u001b[0m",
      "\u001b[1;31mNameError\u001b[0m                                 Traceback (most recent call last)",
      "\u001b[1;32m<ipython-input-8-3b4b2c80c53b>\u001b[0m in \u001b[0;36m<module>\u001b[1;34m\u001b[0m\n\u001b[0;32m      2\u001b[0m \u001b[0ma\u001b[0m\u001b[1;33m=\u001b[0m\u001b[1;32mFalse\u001b[0m\u001b[1;33m+\u001b[0m\u001b[1;32mFalse\u001b[0m\u001b[1;33m\u001b[0m\u001b[1;33m\u001b[0m\u001b[0m\n\u001b[0;32m      3\u001b[0m \u001b[0mprint\u001b[0m\u001b[1;33m(\u001b[0m\u001b[0mtype\u001b[0m\u001b[1;33m(\u001b[0m\u001b[0ma\u001b[0m\u001b[1;33m)\u001b[0m\u001b[1;33m)\u001b[0m\u001b[1;33m\u001b[0m\u001b[1;33m\u001b[0m\u001b[0m\n\u001b[1;32m----> 4\u001b[1;33m \u001b[1;33m(\u001b[0m\u001b[0mb\u001b[0m\u001b[1;33m)\u001b[0m\u001b[1;33m\u001b[0m\u001b[1;33m\u001b[0m\u001b[0m\n\u001b[0m\u001b[0;32m      5\u001b[0m \u001b[0mb\u001b[0m\u001b[1;33m=\u001b[0m\u001b[1;36m2\u001b[0m\u001b[1;33m*\u001b[0m\u001b[1;36m3\u001b[0m\u001b[1;33m**\u001b[0m\u001b[1;36m2.0\u001b[0m\u001b[1;33m\u001b[0m\u001b[1;33m\u001b[0m\u001b[0m\n\u001b[0;32m      6\u001b[0m \u001b[0mprint\u001b[0m\u001b[1;33m(\u001b[0m\u001b[0mtype\u001b[0m\u001b[1;33m(\u001b[0m\u001b[0mb\u001b[0m\u001b[1;33m)\u001b[0m\u001b[1;33m)\u001b[0m\u001b[1;33m\u001b[0m\u001b[1;33m\u001b[0m\u001b[0m\n",
      "\u001b[1;31mNameError\u001b[0m: name 'b' is not defined"
     ]
    }
   ],
   "source": [
    "#exercise 2.9\n",
    "a=False+False\n",
    "print(type(a))\n",
    "(b)\n",
    "b=2*3**2.0\n",
    "print(type(b))\n",
    "(c)\n",
    "c = 4//2+4%2\n",
    "print(type(c))\n",
    "d=2+3==4 or 5>=5\n",
    "print(type(d))\n"
   ]
  },
  {
   "cell_type": "code",
   "execution_count": 10,
   "metadata": {},
   "outputs": [
    {
     "name": "stdout",
     "output_type": "stream",
     "text": [
      "8\n",
      "false\n",
      "28.274333882308138m^2\n",
      "False\n",
      "False\n"
     ]
    }
   ],
   "source": [
    "#exercise 2.10\n",
    "a= 2\n",
    "b=2\n",
    "c=a**2 + b**2\n",
    "print(c)\n",
    "#b\n",
    "if c==5:\n",
    "    print('true')\n",
    "else:\n",
    "    print('false')\n",
    "#c\n",
    "from math import pi\n",
    "r=3\n",
    "area=pi*r**2\n",
    "print(str(area)+'m^2')\n",
    "#d\n",
    "r=10\n",
    "x=2\n",
    "y=1\n",
    "a=x+y==r\n",
    "b=x**2+y**2==r**2\n",
    "print(a)\n",
    "print(b)#problem 2.9\n",
    "#the first value evaluates to bolean \n",
    "#part b is a float value \n",
    "#part c is an Integer value \n",
    "#part d IS an bol value "
   ]
  },
  {
   "cell_type": "code",
   "execution_count": 11,
   "metadata": {},
   "outputs": [
    {
     "name": "stdout",
     "output_type": "stream",
     "text": [
      "127.76470588235294\n"
     ]
    }
   ],
   "source": [
    "#2.11 \n",
    "average_age = 9*17+24*10+21*11+27*12\n",
    "average1 = average_age/17+24+21+27\n",
    "print(average1)"
   ]
  },
  {
   "cell_type": "code",
   "execution_count": 49,
   "metadata": {},
   "outputs": [
    {
     "data": {
      "text/plain": [
       "9.5367431640625e-07"
      ]
     },
     "execution_count": 49,
     "metadata": {},
     "output_type": "execute_result"
    }
   ],
   "source": [
    "#2.11\n",
    "2**-20"
   ]
  },
  {
   "cell_type": "code",
   "execution_count": 50,
   "metadata": {},
   "outputs": [
    {
     "data": {
      "text/plain": [
       "71"
      ]
     },
     "execution_count": 50,
     "metadata": {},
     "output_type": "execute_result"
    }
   ],
   "source": [
    "#2.11\n",
    "4356//61"
   ]
  },
  {
   "cell_type": "code",
   "execution_count": 51,
   "metadata": {},
   "outputs": [
    {
     "data": {
      "text/plain": [
       "34"
      ]
     },
     "execution_count": 51,
     "metadata": {},
     "output_type": "execute_result"
    }
   ],
   "source": [
    "#2.11\n",
    "4365%61"
   ]
  },
  {
   "cell_type": "code",
   "execution_count": 18,
   "metadata": {},
   "outputs": [
    {
     "name": "stdout",
     "output_type": "stream",
     "text": [
      "+-\n",
      "-+-\n",
      "+--\n",
      "+--+--\n",
      "+--+--+--+--+--\n"
     ]
    }
   ],
   "source": [
    "#problem 2.12\n",
    "a = '+'\n",
    "b = '-'\n",
    "print(a+b)\n",
    "print(b+a+b)\n",
    "print(a+b+b)\n",
    "print(a+b+b+a+b+b)\n",
    "print(a+b+b+a+b+b+a+b+b+a+b+b+a+b+b)"
   ]
  },
  {
   "cell_type": "code",
   "execution_count": 19,
   "metadata": {},
   "outputs": [
    {
     "name": "stdout",
     "output_type": "stream",
     "text": [
      "a\n",
      "c\n",
      "y\n",
      "z\n",
      "q\n"
     ]
    }
   ],
   "source": [
    "#problem number 2.13\n",
    "s = 'abcdefghijklmnopqrstuvwxyz'\n",
    "print(s[0])\n",
    "print(s[2])\n",
    "print(s[24])\n",
    "print(s[25])\n",
    "print(s[16])"
   ]
  },
  {
   "cell_type": "code",
   "execution_count": 20,
   "metadata": {},
   "outputs": [
    {
     "name": "stdout",
     "output_type": "stream",
     "text": [
      "True\n",
      "False\n",
      "False\n",
      "False\n",
      "True\n",
      "False\n",
      "False\n"
     ]
    }
   ],
   "source": [
    "#program number 2.14\n",
    "s = 'goodbye'\n",
    "print(s[0]=='g')\n",
    "print(s[6]=='g')\n",
    "print(s[0]=='g' and s[1]=='a')\n",
    "print(s[-2]=='x')\n",
    "print(s[3]=='d')\n",
    "print(s[0]==s[1])\n",
    "print(s[1]+s[2]+s[3]+s[4]=='tion')"
   ]
  },
  {
   "cell_type": "code",
   "execution_count": 22,
   "metadata": {},
   "outputs": [
    {
     "name": "stdout",
     "output_type": "stream",
     "text": [
      "number of characters : 17\n",
      "the number of characters : 15\n",
      "\\dictionary gives the word in yhis order\n",
      "['mis interpretation', 'misrepresentation']\n",
      "the number of time e repeates in is ﬂoccinaucinihilipiliﬁcation\n",
      "the number of characters are : 17\n",
      "the number of characters arev : 10\n"
     ]
    }
   ],
   "source": [
    "#program number 2.15\n",
    "a = 'anachronistically'\n",
    "b = 'counterintutive'\n",
    "print(\"number of characters : \"+str(len(a)))\n",
    "print(\"the number of characters : \"+str(len(b)))\n",
    "\n",
    "dictionary = ['misrepresentation','mis interpretation' ]\n",
    "dictionary.sort()\n",
    "print(\"\\dictionary gives the word in yhis order\")\n",
    "print(dictionary)\n",
    "word = 'ﬂoccinaucinihilipiliﬁcation'\n",
    "print(\"the number of time e repeates in is \"+str(word))\n",
    "word1 = 'counterrevolution'\n",
    "word2 = 'resolution'\n",
    "print(\"the number of characters are : \" +str(len(word1)))\n",
    "print(\"the number of characters arev : \"+str(len(word2)))"
   ]
  },
  {
   "cell_type": "code",
   "execution_count": 23,
   "metadata": {},
   "outputs": [
    {
     "name": "stdout",
     "output_type": "stream",
     "text": [
      "6\n",
      "7\n",
      "6.5\n",
      "['paper', 'staples', 'pencils']\n",
      "John Fitzgerald Kennedy \n"
     ]
    }
   ],
   "source": [
    "#problem no 2.16\n",
    "#assigning values to varabl 'a' and 'b'\n",
    "a=6\n",
    "b=7\n",
    "print(a)\n",
    "print(b)\n",
    "\n",
    "#part b\n",
    "c=(a+b)/2\n",
    "print(c)\n",
    "\n",
    "#part (c)\n",
    "original_list=['paper','staples','pencils']\n",
    "inventory=list(original_list)\n",
    "print(inventory)\n",
    "\n",
    "#part (d)\n",
    "fname=str('John ')\n",
    "middlename=str('Fitzgerald ')\n",
    "lastname=str('Kennedy ')\n",
    "\n",
    "#part(e)\n",
    "fullname=str(fname+middlename+lastname)\n",
    "print(fullname)"
   ]
  },
  {
   "cell_type": "code",
   "execution_count": 29,
   "metadata": {},
   "outputs": [
    {
     "name": "stdout",
     "output_type": "stream",
     "text": [
      "5\n",
      "6\n",
      "5\n",
      "['N', 'N', 'N', 'N', 'N', 'N', 'Y', 'Y', 'Y', 'Y', 'Y']\n",
      "6\n"
     ]
    }
   ],
   "source": [
    "#practice problem 2.19\n",
    "#part(a)\n",
    "answers= ['Y', 'N', 'N', 'Y', 'N', 'Y', 'Y', 'Y', 'N', 'N', 'N'] \n",
    "numYes=(answers.count('Y'))\n",
    "print(numYes)\n",
    "\n",
    "answers= ['Y','N','N','Y','N','Y','Y','Y','N','N','N']\n",
    "numNo=(answers.count('N'))\n",
    "print(numNo)\n",
    "\n",
    "answers= ['Y','N','N','Y','N','Y','Y','Y','N','N','N']\n",
    "numYes=(answers.count('Y'))\n",
    "print(numYes)\n",
    "\n",
    "answers= ['Y','N','N','Y','N','Y','Y','Y','N','N','N']\n",
    "\n",
    "answers.sort()\n",
    "print(answers)\n",
    "\n",
    "f=answers.index('Y')\n",
    "print(f)"
   ]
  },
  {
   "cell_type": "code",
   "execution_count": 30,
   "metadata": {},
   "outputs": [
    {
     "name": "stdout",
     "output_type": "stream",
     "text": [
      "['jan', 'feb', 'march', 'april', 'may']\n",
      "['jan', 'feb', 'march', 'april', 'may']\n"
     ]
    }
   ],
   "source": [
    "#practice problem 2.23\n",
    "#part(a)\n",
    "monthsL=['jan','feb','march','may']\n",
    "monthsT=['jan','feb','march','may']\n",
    "monthsL.insert(3,\"april\")\n",
    "print(monthsL)\n",
    "monthsT.insert(3,\"april\")\n",
    "print(monthsT)"
   ]
  },
  {
   "cell_type": "code",
   "execution_count": 31,
   "metadata": {},
   "outputs": [
    {
     "name": "stdout",
     "output_type": "stream",
     "text": [
      "['jan', 'feb', 'march', 'may', 'jun']\n",
      "['jan', 'feb', 'march', 'may', 'jun']\n"
     ]
    }
   ],
   "source": [
    "#practice problem 2.23\n",
    "#part(b)\n",
    "monthsL=['jan','feb','march','may']\n",
    "monthsT=['jan','feb','march','may']\n",
    "monthsL.append(\"jun\")\n",
    "print(monthsL)\n",
    "monthsT.append(\"jun\")\n",
    "print(monthsT)"
   ]
  },
  {
   "cell_type": "code",
   "execution_count": 32,
   "metadata": {},
   "outputs": [
    {
     "name": "stdout",
     "output_type": "stream",
     "text": [
      "['jan', 'feb', 'march']\n",
      "['jan', 'feb', 'march']\n"
     ]
    }
   ],
   "source": [
    "#practice problem 2.23\n",
    "#part(c)\n",
    "monthsL=['jan','feb','march','may']\n",
    "monthsT=['jan','feb','march','may']\n",
    "monthsT.pop()\n",
    "print(monthsT)\n",
    "monthsL.pop()\n",
    "print(monthsL)"
   ]
  },
  {
   "cell_type": "code",
   "execution_count": 33,
   "metadata": {},
   "outputs": [
    {
     "name": "stdout",
     "output_type": "stream",
     "text": [
      "['jan', 'march', 'may']\n",
      "['jan', 'march', 'may']\n"
     ]
    }
   ],
   "source": [
    "#practice problem 2.23\n",
    "#part(d)\n",
    "monthsL=['jan','feb','march','may']\n",
    "monthsT=['jan','feb','march','may']\n",
    "del (monthsL[1])\n",
    "print(monthsL)\n",
    "del (monthsT[1])\n",
    "print(monthsT)"
   ]
  },
  {
   "cell_type": "code",
   "execution_count": 34,
   "metadata": {},
   "outputs": [
    {
     "name": "stdout",
     "output_type": "stream",
     "text": [
      "['may', 'march', 'feb', 'jan']\n",
      "['may', 'march', 'feb', 'jan']\n"
     ]
    }
   ],
   "source": [
    "#practice problem 2.23\n",
    "#part(e)\n",
    "monthsL=['jan','feb','march','may']\n",
    "monthsT=['jan','feb','march','may']\n",
    "monthsL.reverse()\n",
    "print(monthsL)\n",
    "monthsT.reverse()\n",
    "print(monthsT)"
   ]
  },
  {
   "cell_type": "code",
   "execution_count": 35,
   "metadata": {},
   "outputs": [
    {
     "name": "stdout",
     "output_type": "stream",
     "text": [
      "['feb', 'jan', 'march', 'may']\n",
      "['feb', 'jan', 'march', 'may']\n"
     ]
    }
   ],
   "source": [
    "#practice problem 2.23\n",
    "#part(f)\n",
    "monthsL=['jan','feb','march','may']\n",
    "monthsT=['jan','feb','march','may']\n",
    "monthsL.sort()\n",
    "print(monthsL)\n",
    "monthsT.sort()\n",
    "print(monthsT)"
   ]
  },
  {
   "cell_type": "code",
   "execution_count": 36,
   "metadata": {},
   "outputs": [
    {
     "name": "stdout",
     "output_type": "stream",
     "text": [
      "enter length of ladder in feet16\n",
      "enter angle of ladder in ddegrres75\n",
      "the height of ladder in meter is 15.454813220625093\n"
     ]
    }
   ],
   "source": [
    "# problem no 2.27\n",
    "#part(a)\n",
    "import math\n",
    "a=float(input(\"enter length of ladder in feet\"))\n",
    "b=float(input(\"enter angle of ladder in ddegrres\"))\n",
    "rad=(math.pi * b)/180\n",
    "form=a * math.sin(rad)\n",
    "print(\"the height of ladder in meter is\", form)"
   ]
  },
  {
   "cell_type": "code",
   "execution_count": 37,
   "metadata": {},
   "outputs": [
    {
     "name": "stdout",
     "output_type": "stream",
     "text": [
      "enter length of ladder in feet 20\n",
      "enter angle of ladder in ddegrres0\n",
      "the height of in meter ladder is 0.0\n"
     ]
    }
   ],
   "source": [
    "# problem no 2.27 # part(b)\n",
    "import math\n",
    "a=float(input(\"enter length of ladder in feet \"))\n",
    "b=float(input(\"enter angle of ladder in ddegrres\"))\n",
    "rad=(math.pi * b)/180\n",
    "form=a * math.sin(rad)\n",
    "print(\"the height of in meter ladder is\", form)"
   ]
  },
  {
   "cell_type": "code",
   "execution_count": 38,
   "metadata": {},
   "outputs": [
    {
     "name": "stdout",
     "output_type": "stream",
     "text": [
      "enter length of ladder in feet 24\n",
      "enter angle of ladder in ddegrres45\n",
      "the height of ladder in meter is 16.970562748477143\n"
     ]
    }
   ],
   "source": [
    "# problem no 2.27\n",
    "#part(c)\n",
    "import math\n",
    "a=float(input(\"enter length of ladder in feet \"))\n",
    "b=float(input(\"enter angle of ladder in ddegrres\"))\n",
    "rad=(math.pi * b)/180\n",
    "form=a * math.sin(rad)\n",
    "print(\"the height of ladder in meter is\", form)"
   ]
  },
  {
   "cell_type": "code",
   "execution_count": 39,
   "metadata": {},
   "outputs": [
    {
     "name": "stdout",
     "output_type": "stream",
     "text": [
      "enter length of ladder in feet24\n",
      "enter angle of ladder in ddegrres80\n",
      "the height of ladder in meter is 23.63538607229299\n"
     ]
    }
   ],
   "source": [
    "# problem no 2.27\n",
    "#part(d)\n",
    "import math\n",
    "a=float(input(\"enter length of ladder in feet\"))\n",
    "b=float(input(\"enter angle of ladder in ddegrres\"))\n",
    "rad=(math.pi * b)/180\n",
    "form=a * math.sin(rad)\n",
    "print(\"the height of ladder in meter is\", form)"
   ]
  },
  {
   "cell_type": "code",
   "execution_count": 40,
   "metadata": {},
   "outputs": [
    {
     "name": "stdout",
     "output_type": "stream",
     "text": [
      "the index of the middle element in the list is 2\n"
     ]
    }
   ],
   "source": [
    "#problem no 2.28 part (a)\n",
    "a=[1,2,3,4,5]\n",
    "b=a.index(3)\n",
    "print(\"the index of the middle element in the list is\" ,b)"
   ]
  },
  {
   "cell_type": "code",
   "execution_count": 41,
   "metadata": {},
   "outputs": [
    {
     "name": "stdout",
     "output_type": "stream",
     "text": [
      "the middle element in the list is 3\n"
     ]
    }
   ],
   "source": [
    "#problem no 2.28 part (b)\n",
    "a=[1,2,3,4,5]\n",
    "print(\"the middle element in the list is\",a[2])"
   ]
  },
  {
   "cell_type": "code",
   "execution_count": 42,
   "metadata": {},
   "outputs": [
    {
     "name": "stdout",
     "output_type": "stream",
     "text": [
      "list in descending order [5, 4, 3, 2, 1]\n"
     ]
    }
   ],
   "source": [
    "#problem no 2.28 part (c)\n",
    "a=[1,2,3,4,5]\n",
    "a.sort()\n",
    "a.reverse()\n",
    "print(\"list in descending order\",a)"
   ]
  },
  {
   "cell_type": "code",
   "execution_count": 43,
   "metadata": {},
   "outputs": [
    {
     "name": "stdout",
     "output_type": "stream",
     "text": [
      "[2, 3, 4, 5, 1]\n"
     ]
    }
   ],
   "source": [
    "#problem no 2.28 part (d)\n",
    "a=[1,2,3,4,5]\n",
    "c=a[0]\n",
    "a.append(c)\n",
    "del(a[0])\n",
    "print(a)"
   ]
  },
  {
   "cell_type": "code",
   "execution_count": 45,
   "metadata": {},
   "outputs": [
    {
     "data": {
      "text/plain": [
       "False"
      ]
     },
     "execution_count": 45,
     "metadata": {},
     "output_type": "execute_result"
    }
   ],
   "source": [
    "#program 2.29\n",
    "#part(a)\n",
    "0 == 1 == 2 "
   ]
  },
  {
   "cell_type": "code",
   "execution_count": 46,
   "metadata": {},
   "outputs": [
    {
     "data": {
      "text/plain": [
       "False"
      ]
     },
     "execution_count": 46,
     "metadata": {},
     "output_type": "execute_result"
    }
   ],
   "source": [
    "#part(b)\n",
    "2 + 3 == 4 + 5 == 7 "
   ]
  },
  {
   "cell_type": "code",
   "execution_count": 47,
   "metadata": {},
   "outputs": [
    {
     "data": {
      "text/plain": [
       "False"
      ]
     },
     "execution_count": 47,
     "metadata": {},
     "output_type": "execute_result"
    }
   ],
   "source": [
    "#part(c)\n",
    "1 < -1 == 3 > 4"
   ]
  },
  {
   "cell_type": "code",
   "execution_count": 48,
   "metadata": {},
   "outputs": [
    {
     "data": {
      "text/plain": [
       "[2, 3, 4, 5, 6]"
      ]
     },
     "execution_count": 48,
     "metadata": {},
     "output_type": "execute_result"
    }
   ],
   "source": [
    "#Problem No 2.31\n",
    ">>> lst=[2,3,4]\n",
    ">>> lst.extend([5,6])\n",
    ">>> lst\n",
    "[2,3,4,5,6]\n",
    ">>> lst2=lst.copy()\n",
    ">>> lst2\n",
    "[2,3,4,5,6]\n",
    ">>> lst.clear()\n",
    ">>> lst\n",
    "[]\n",
    ">>> lst2\n",
    "[2,3,4,5,6]"
   ]
  }
 ],
 "metadata": {
  "kernelspec": {
   "display_name": "Python 3",
   "language": "python",
   "name": "python3"
  },
  "language_info": {
   "codemirror_mode": {
    "name": "ipython",
    "version": 3
   },
   "file_extension": ".py",
   "mimetype": "text/x-python",
   "name": "python",
   "nbconvert_exporter": "python",
   "pygments_lexer": "ipython3",
   "version": "3.7.3"
  }
 },
 "nbformat": 4,
 "nbformat_minor": 2
}
