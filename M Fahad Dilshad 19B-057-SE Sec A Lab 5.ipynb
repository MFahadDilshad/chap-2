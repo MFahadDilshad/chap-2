{
 "cells": [
  {
   "cell_type": "code",
   "execution_count": 73,
   "metadata": {},
   "outputs": [
    {
     "name": "stdout",
     "output_type": "stream",
     "text": [
      "301.59289474462014\n"
     ]
    }
   ],
   "source": [
    "#Program 1\n",
    "import math\n",
    "def volume_of_cylinder(radius,height):\n",
    "    pi=math.pi\n",
    "    volume=height*pi*radius**2\n",
    "    return volume\n",
    "print(volume_of_cylinder(4,6))\n",
    "    "
   ]
  },
  {
   "cell_type": "code",
   "execution_count": 74,
   "metadata": {},
   "outputs": [
    {
     "name": "stdout",
     "output_type": "stream",
     "text": [
      "131.94689145077132\n"
     ]
    }
   ],
   "source": [
    "#Program 1\n",
    "import math\n",
    "def Area_of_cylinder(radius,height):\n",
    "    pi=math.pi\n",
    "    Area=2*pi*radius*height+2*pi*radius**2\n",
    "    return Area\n",
    "print(Area_of_cylinder(3,4))"
   ]
  },
  {
   "cell_type": "code",
   "execution_count": 75,
   "metadata": {},
   "outputs": [
    {
     "name": "stdout",
     "output_type": "stream",
     "text": [
      "32 m**2\n"
     ]
    }
   ],
   "source": [
    "#Program 2\n",
    "def Area_of_rectangle(l,w):\n",
    "    Area=l*w\n",
    "    return Area\n",
    "print(Area_of_rectangle(8,4),\"m**2\")"
   ]
  },
  {
   "cell_type": "code",
   "execution_count": 76,
   "metadata": {},
   "outputs": [
    {
     "name": "stdout",
     "output_type": "stream",
     "text": [
      "216 ftcm\n"
     ]
    }
   ],
   "source": [
    "#Program 2\n",
    "def Volume_of_rectangle(l,w,h):\n",
    "    Area=l*w*h\n",
    "    return Area\n",
    "print(Volume_of_rectangle(6,4,9),\"ftcm\")"
   ]
  },
  {
   "cell_type": "code",
   "execution_count": 77,
   "metadata": {},
   "outputs": [
    {
     "name": "stdout",
     "output_type": "stream",
     "text": [
      "Number of terms:35\n",
      "the nth term of the sequence is: 207\n",
      "Do you want to continur? Yes or No?Yes\n",
      "Number of terms:45\n",
      "the nth term of the sequence is: 267\n",
      "Do you want to continur? Yes or No?Yes\n",
      "Number of terms:96\n",
      "the nth term of the sequence is: 573\n",
      "Do you want to continur? Yes or No?No\n",
      "You are done!\n"
     ]
    }
   ],
   "source": [
    "#Program 3\n",
    "def AP():\n",
    "    a1=3\n",
    "    d=6\n",
    "    n=int(input(\"Number of terms:\"))\n",
    "    form=a1+(n-1)*d\n",
    "    if n>0:\n",
    "        print(\"the nth term of the sequence is:\",form)\n",
    "        while(n>0):\n",
    "            ask=input(\"Do you want to continur? Yes or No?\")\n",
    "            if(ask==\"Yes\"):\n",
    "                a1=3\n",
    "                d=6\n",
    "                n=int(input(\"Number of terms:\"))\n",
    "                form=a1+(n-1)*d\n",
    "                print(\"the nth term of the sequence is:\",form)\n",
    "            else:\n",
    "                print(\"You are done!\")\n",
    "                break\n",
    "    elif n==0:\n",
    "        print(\"the number of terms can never zero\")\n",
    "AP()"
   ]
  },
  {
   "cell_type": "code",
   "execution_count": 78,
   "metadata": {},
   "outputs": [
    {
     "name": "stdout",
     "output_type": "stream",
     "text": [
      "it is palindrome\n"
     ]
    }
   ],
   "source": [
    "#Profram 4\n",
    "def palindrome():\n",
    "    name=str(\"civic\")\n",
    "    rev=reversed(name)\n",
    "   \n",
    "    \n",
    "    if list(name)==list(rev):\n",
    "        print(\"it is palindrome\")\n",
    "        \n",
    "   \n",
    "    else:\n",
    "        print(\"not palindrome\")\n",
    "palindrome()"
   ]
  },
  {
   "cell_type": "code",
   "execution_count": 16,
   "metadata": {
    "scrolled": true
   },
   "outputs": [
    {
     "name": "stdout",
     "output_type": "stream",
     "text": [
      "\t\t\t Mark_sheet\n",
      "Name: M Fahad\n",
      "Father_name: Dilshad Ahmed\n",
      "Roll_no: 57\n",
      " \n",
      "Subjects \t\t obt_marks\n",
      " \n",
      "English \t\t 66\n",
      "Math \t\t\t 91\n",
      "Phy \t\t\t 76\n",
      "Chem \t\t\t 75\n",
      "Urdu \t\t\t 71\n",
      "\n",
      "Total_marks: 379\n",
      "Grade A\n",
      "Congratulations you are pass\n"
     ]
    }
   ],
   "source": [
    "#Program 5\n",
    "def mark_sheet():\n",
    "    name=(\"M Fahad\")\n",
    "    f_name=(\"Dilshad Ahmed\")\n",
    "    roll_no=(\"57\")\n",
    "    \n",
    "   \n",
    "    english=66\n",
    "    math=91\n",
    "    phy=76\n",
    "    chem=75\n",
    "    urdu=71\n",
    "    obt_marks=(english+math+phy+chem+urdu)\n",
    "    percentage=((obt_marks/500)*100)\n",
    "    print(\"\\t\\t\\t\",\"Mark_sheet\")\n",
    "    print(\"Name:\",name)\n",
    "    print(\"Father_name:\",f_name)\n",
    "    print(\"Roll_no:\",roll_no)\n",
    "    print(\" \")\n",
    "    print(\"Subjects\",\"\\t\\t\",\"obt_marks\")\n",
    "    print(\" \")\n",
    "    print(\"English\",\"\\t\\t\",\"66\")\n",
    "    print(\"Math\",\"\\t\\t\\t\",\"91\")\n",
    "    print(\"Phy\",\"\\t\\t\\t\",\"76\")\n",
    "    print(\"Chem\",\"\\t\\t\\t\",\"75\")\n",
    "    print(\"Urdu\",\"\\t\\t\\t\",\"71\")\n",
    "    print(\"\")\n",
    "    print(\"Total_marks:\",obt_marks)\n",
    "    if percentage>=80:\n",
    "        \n",
    "        print(\"Grade A+\")\n",
    "    elif percentage>=70:\n",
    "        print(\"Grade A\")\n",
    "    elif percentage>=60:\n",
    "        print(\"Grade B\")\n",
    "    elif percentage>=50:\n",
    "        print(\"Grade C\")\n",
    "    if percentage>50:\n",
    "        print(\"Congratulations you are pass\")\n",
    "    else:\n",
    "        (percentage>=35)\n",
    "        print(\"Fail\") \n",
    "        \n",
    "mark_sheet()"
   ]
  },
  {
   "cell_type": "code",
   "execution_count": 86,
   "metadata": {},
   "outputs": [
    {
     "data": {
      "text/plain": [
       "(51, 'meters')"
      ]
     },
     "execution_count": 86,
     "metadata": {},
     "output_type": "execute_result"
    }
   ],
   "source": [
    "#Program 6\n",
    "def first_equation(v,a,t):\n",
    "    form=(v+a*t)\n",
    "    return form,'meters'\n",
    "first_equation(3,6,8) "
   ]
  },
  {
   "cell_type": "code",
   "execution_count": 90,
   "metadata": {},
   "outputs": [
    {
     "data": {
      "text/plain": [
       "180.0"
      ]
     },
     "execution_count": 90,
     "metadata": {},
     "output_type": "execute_result"
    }
   ],
   "source": [
    "#Program 6\n",
    "def second_equation(u,a,t):\n",
    "    form=(u*t+1/2*a*t**2)\n",
    "    return form\n",
    "second_equation(2,4,9)"
   ]
  },
  {
   "cell_type": "code",
   "execution_count": 89,
   "metadata": {},
   "outputs": [
    {
     "data": {
      "text/plain": [
       "(360.0, 'meters')"
      ]
     },
     "execution_count": 89,
     "metadata": {},
     "output_type": "execute_result"
    }
   ],
   "source": [
    "#Program 6\n",
    "def third_equation(vi,vf,a):\n",
    "    form=((vf**2-vi**2)/2*a)\n",
    "    return form,'meters'\n",
    "third_equation(3,9,10) \n"
   ]
  },
  {
   "cell_type": "code",
   "execution_count": null,
   "metadata": {},
   "outputs": [],
   "source": [
    "#program 7\n"
   ]
  },
  {
   "cell_type": "code",
   "execution_count": 91,
   "metadata": {},
   "outputs": [
    {
     "data": {
      "text/plain": [
       "110250.00000000001"
      ]
     },
     "execution_count": 91,
     "metadata": {},
     "output_type": "execute_result"
    }
   ],
   "source": [
    "#program 7\n",
    "from math import sin\n",
    "def projectile_motion(v,sinx,g):\n",
    "    form= (v*sinx)**2/2*g\n",
    "    return form\n",
    "projectile_motion(5,30,9.8)"
   ]
  },
  {
   "cell_type": "code",
   "execution_count": 92,
   "metadata": {},
   "outputs": [
    {
     "name": "stdout",
     "output_type": "stream",
     "text": [
      "the reverse of this is  dahaf\n"
     ]
    }
   ],
   "source": [
    "#Program 8\n",
    "def reverse(name):\n",
    "    reverse=''.join(reversed(name))\n",
    "    print(\"the reverse of this is \",reverse)\n",
    "reverse(\"fahad\")    "
   ]
  },
  {
   "cell_type": "code",
   "execution_count": 93,
   "metadata": {},
   "outputs": [
    {
     "name": "stdout",
     "output_type": "stream",
     "text": [
      "sin= -0.9880316240928618 \t\t cos= 0.15425144988758405 \t\t tan= -6.405331196646276 \t\t\n",
      "sin= -0.404037645323065 \t\t cos= 0.9147423578045313 \t\t tan= -0.441695568020698 \t\t\n",
      "sin= 0.5514266812416906 \t\t cos= 0.8342233605065102 \t\t tan= 0.6610060414837631 \t\t\n",
      "sin= 0.9999118601072672 \t\t cos= -0.013276747223059479 \t\t tan= -75.31301480008509 \t\t\n",
      "sin= 0.5290826861200238 \t\t cos= -0.8485702747846052 \t\t tan= -0.6234989627162255 \t\t\n",
      "sin= -0.428182669496151 \t\t cos= -0.9036922050915067 \t\t tan= 0.47381472041445105 \t\t\n",
      "sin= -0.9917788534431158 \t\t cos= -0.12796368962740468 \t\t tan= 7.750470905699148 \t\t\n",
      "sin= -0.6435381333569995 \t\t cos= 0.7654140519453433 \t\t tan= -0.8407712554027598 \t\t\n",
      "sin= 0.2963685787093853 \t\t cos= 0.9550736440472949 \t\t tan= 0.310309660994801 \t\t\n",
      "sin= 0.9637953862840878 \t\t cos= 0.26664293235993725 \t\t tan= 3.614554407101535 \t\t\n",
      "sin= 0.7451131604793488 \t\t cos= -0.6669380616522619 \t\t tan= -1.117214930923896 \t\t\n",
      "sin= -0.158622668804709 \t\t cos= -0.9873392775238264 \t\t tan= 0.16065669868064283 \t\t\n",
      "sin= -0.9165215479156338 \t\t cos= -0.39998531498835127 \t\t tan= 2.2913879924374863 \t\t\n",
      "sin= -0.8317747426285983 \t\t cos= 0.5551133015206257 \t\t tan= -1.4983873388551707 \t\t\n",
      "sin= 0.017701925105413577 \t\t cos= 0.9998433086476912 \t\t tan= 0.017704699278685777 \t\t\n",
      "sin= 0.8509035245341184 \t\t cos= 0.5253219888177297 \t\t tan= 1.6197751905438615 \t\t\n",
      "sin= 0.9017883476488092 \t\t cos= -0.4321779448847783 \t\t tan= -2.086613531121382 \t\t\n",
      "sin= 0.123573122745224 \t\t cos= -0.9923354691509287 \t\t tan= -0.12452756813273719 \t\t\n",
      "sin= -0.7682546613236668 \t\t cos= -0.6401443394691997 \t\t tan= 1.2001272431162864 \t\t\n",
      "sin= -0.9537526527594719 \t\t cos= 0.3005925437436371 \t\t tan= -3.172908552159191 \t\t\n"
     ]
    }
   ],
   "source": [
    "#Program 10\n",
    "from math import sin,cos,tan\n",
    "def fuction(sin,cos,tan):\n",
    "    for i in range(30,50):\n",
    "        p=sin(i)\n",
    "        q=cos(i)\n",
    "        r=tan(i)\n",
    "        print(str('sin='),p,\"\\t\\t\",str('cos='),q,\"\\t\\t\",str('tan='),r,\"\\t\\t\",)\n",
    "fuction(sin,cos,tan)"
   ]
  }
 ],
 "metadata": {
  "kernelspec": {
   "display_name": "Python 3",
   "language": "python",
   "name": "python3"
  },
  "language_info": {
   "codemirror_mode": {
    "name": "ipython",
    "version": 3
   },
   "file_extension": ".py",
   "mimetype": "text/x-python",
   "name": "python",
   "nbconvert_exporter": "python",
   "pygments_lexer": "ipython3",
   "version": "3.7.3"
  }
 },
 "nbformat": 4,
 "nbformat_minor": 2
}
