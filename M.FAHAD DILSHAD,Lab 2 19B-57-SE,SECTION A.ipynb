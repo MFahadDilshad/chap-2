{
 "cells": [
  {
   "cell_type": "code",
   "execution_count": 9,
   "metadata": {},
   "outputs": [
    {
     "name": "stdout",
     "output_type": "stream",
     "text": [
      "[10, 22, 44, 23, 4]\n",
      "[10, 22, 44, 23, 4]\n"
     ]
    }
   ],
   "source": [
    "#Problem No 1\n",
    "originallist1=[10,22,44,23,4]\n",
    "newlist2=list(originallist1)\n",
    "print(originallist1)\n",
    "print(newlist2)"
   ]
  },
  {
   "cell_type": "code",
   "execution_count": 8,
   "metadata": {},
   "outputs": [
    {
     "name": "stdout",
     "output_type": "stream",
     "text": [
      "0\n",
      "()\n"
     ]
    }
   ],
   "source": [
    "#Problem No 2\n",
    "#Create an empty tuple\n",
    "x=0\n",
    "print(x)\n",
    "#Create an empty tuple with tuple() function built-in python\n",
    "tuple1=tuple()\n",
    "print(tuple1)"
   ]
  },
  {
   "cell_type": "code",
   "execution_count": 7,
   "metadata": {},
   "outputs": [
    {
     "name": "stdout",
     "output_type": "stream",
     "text": [
      "('tuple', False, 3.2, 1)\n"
     ]
    }
   ],
   "source": [
    "#Problem No 3\n",
    "#Create a tuple with different data types\n",
    "tuple2=(\"tuple\",False,3.2,1)\n",
    "print(tuple2)"
   ]
  },
  {
   "cell_type": "code",
   "execution_count": 5,
   "metadata": {},
   "outputs": [
    {
     "name": "stdout",
     "output_type": "stream",
     "text": [
      "('U', 'I', 'T', '2', '0', '1', '8', 'b', 'a', 't', 'c', 'h')\n",
      "2\n",
      "a\n"
     ]
    }
   ],
   "source": [
    "#Problem No 4\n",
    "#Get an item of tuple\n",
    "tuplex=(\"U\",\"I\",\"T\",\"2\",\"0\",\"1\",\"8\",\"b\",\"a\",\"t\",\"c\",\"h\")\n",
    "print(tuplex)\n",
    "#Get item(4th element)of the tuple by index\n",
    "item=tuplex[3]\n",
    "print(item)\n",
    "#Get item(4th element from last)by index negative\n",
    "item1=tuplex[-4]\n",
    "print(item1)"
   ]
  },
  {
   "cell_type": "code",
   "execution_count": 11,
   "metadata": {},
   "outputs": [
    {
     "data": {
      "text/plain": [
       "[2, 3, 4, 5, 6]"
      ]
     },
     "execution_count": 11,
     "metadata": {},
     "output_type": "execute_result"
    }
   ],
   "source": [
    "#Problem No 5\n",
    ">>> lst=[2,3,4]\n",
    ">>> lst.extend([5,6])\n",
    ">>> lst\n",
    "[2,3,4,5,6]\n",
    ">>> lst2=lst.copy()\n",
    ">>> lst2\n",
    "[2,3,4,5,6]\n",
    ">>> lst.clear()\n",
    ">>> lst\n",
    "[]\n",
    ">>> lst2\n",
    "[2,3,4,5,6]"
   ]
  },
  {
   "cell_type": "code",
   "execution_count": 10,
   "metadata": {},
   "outputs": [
    {
     "name": "stdout",
     "output_type": "stream",
     "text": [
      "402\n"
     ]
    }
   ],
   "source": [
    "#Q No 1\n",
    "from datetime import date\n",
    "fdate=date(2018,7,5)\n",
    "ldate=date(2019,8,11)\n",
    "result=ldate-fdate\n",
    "print(result.days)"
   ]
  },
  {
   "cell_type": "code",
   "execution_count": 3,
   "metadata": {},
   "outputs": [
    {
     "name": "stdout",
     "output_type": "stream",
     "text": [
      "enter length of ladder in feet16\n",
      "enter angle of ladder in ddegrres75\n",
      "the height of ladder in meter is 15.454813220625093\n"
     ]
    }
   ],
   "source": [
    "# Q no 2 part (a)\n",
    "import math\n",
    "a=float(input(\"enter length of ladder in feet\"))\n",
    "b=float(input(\"enter angle of ladder in ddegrres\"))\n",
    "rad=(math.pi * b)/180\n",
    "form=a * math.sin(rad)\n",
    "print(\"the height of ladder in meter is\", form)"
   ]
  },
  {
   "cell_type": "code",
   "execution_count": 4,
   "metadata": {},
   "outputs": [
    {
     "name": "stdout",
     "output_type": "stream",
     "text": [
      "enter length of ladder in feet 20\n",
      "enter angle of ladder in ddegrres0\n",
      "the height of in meter ladder is 0.0\n"
     ]
    }
   ],
   "source": [
    "#Q No 2 part(b)\n",
    "import math\n",
    "a=float(input(\"enter length of ladder in feet \"))\n",
    "b=float(input(\"enter angle of ladder in ddegrres\"))\n",
    "rad=(math.pi * b)/180\n",
    "form=a * math.sin(rad)\n",
    "print(\"the height of in meter ladder is\", form)"
   ]
  },
  {
   "cell_type": "code",
   "execution_count": 5,
   "metadata": {},
   "outputs": [
    {
     "name": "stdout",
     "output_type": "stream",
     "text": [
      "enter length of ladder in feet 24\n",
      "enter angle of ladder in ddegrres45\n",
      "the height of ladder in meter is 16.970562748477143\n"
     ]
    }
   ],
   "source": [
    "#Q No 2 part(c)\n",
    "import math\n",
    "a=float(input(\"enter length of ladder in feet \"))\n",
    "b=float(input(\"enter angle of ladder in ddegrres\"))\n",
    "rad=(math.pi * b)/180\n",
    "form=a * math.sin(rad)\n",
    "print(\"the height of ladder in meter is\", form)"
   ]
  },
  {
   "cell_type": "code",
   "execution_count": 6,
   "metadata": {},
   "outputs": [
    {
     "name": "stdout",
     "output_type": "stream",
     "text": [
      "enter length of ladder in feet24\n",
      "enter angle of ladder in ddegrres80\n",
      "the height of ladder in meter is 23.63538607229299\n"
     ]
    }
   ],
   "source": [
    "#Q No 2 part(d)\n",
    "import math\n",
    "a=float(input(\"enter length of ladder in feet\"))\n",
    "b=float(input(\"enter angle of ladder in ddegrres\"))\n",
    "rad=(math.pi * b)/180\n",
    "form=a * math.sin(rad)\n",
    "print(\"the height of ladder in meter is\", form)"
   ]
  },
  {
   "cell_type": "code",
   "execution_count": 1,
   "metadata": {},
   "outputs": [
    {
     "name": "stdout",
     "output_type": "stream",
     "text": [
      "the index of the middle element in the list is 2\n"
     ]
    }
   ],
   "source": [
    "#Q No 3 part (a)\n",
    "a=[1,2,3,4,5]\n",
    "b=a.index(3)\n",
    "print(\"the index of the middle element in the list is\" ,b)"
   ]
  },
  {
   "cell_type": "code",
   "execution_count": 2,
   "metadata": {},
   "outputs": [
    {
     "name": "stdout",
     "output_type": "stream",
     "text": [
      "the middle element in the list is 3\n"
     ]
    }
   ],
   "source": [
    "#Q No 3 part (b)\n",
    "a=[1,2,3,4,5]\n",
    "print(\"the middle element in the list is\",a[2])"
   ]
  },
  {
   "cell_type": "code",
   "execution_count": 3,
   "metadata": {},
   "outputs": [
    {
     "name": "stdout",
     "output_type": "stream",
     "text": [
      "list in descending order [5, 4, 3, 2, 1]\n"
     ]
    }
   ],
   "source": [
    "#Q No 3 part (c)\n",
    "a=[1,2,3,4,5]\n",
    "a.sort()\n",
    "a.reverse()\n",
    "print(\"list in descending order\",a)"
   ]
  },
  {
   "cell_type": "code",
   "execution_count": 4,
   "metadata": {},
   "outputs": [
    {
     "name": "stdout",
     "output_type": "stream",
     "text": [
      "[2, 3, 4, 5, 1]\n"
     ]
    }
   ],
   "source": [
    "#Q No 3 part (d)\n",
    "a=[1,2,3,4,5]\n",
    "c=a[0]\n",
    "a.append(c)\n",
    "del(a[0])\n",
    "print(a)"
   ]
  },
  {
   "cell_type": "code",
   "execution_count": 22,
   "metadata": {},
   "outputs": [
    {
     "name": "stdout",
     "output_type": "stream",
     "text": [
      "['jan', 'feb', 'march', 'april', 'may']\n",
      "['jan', 'feb', 'march', 'april', 'may']\n"
     ]
    }
   ],
   "source": [
    "#Q No 4(a)\n",
    "monthsL=['jan','feb','march','may']\n",
    "monthsT=['jan','feb','march','may']\n",
    "monthsL.insert(3,\"april\")\n",
    "print(monthsL)\n",
    "monthsT.insert(3,\"april\")\n",
    "print(monthsT)"
   ]
  },
  {
   "cell_type": "code",
   "execution_count": 29,
   "metadata": {
    "scrolled": true
   },
   "outputs": [
    {
     "name": "stdout",
     "output_type": "stream",
     "text": [
      "['jan', 'feb', 'march', 'may', 'jun']\n",
      "['jan', 'feb', 'march', 'may', 'jun']\n"
     ]
    }
   ],
   "source": [
    "#Q No 4(b)\n",
    "monthsL=['jan','feb','march','may']\n",
    "monthsT=['jan','feb','march','may']\n",
    "monthsL.append(\"jun\")\n",
    "print(monthsL)\n",
    "monthsT.append(\"jun\")\n",
    "print(monthsT)\n"
   ]
  },
  {
   "cell_type": "code",
   "execution_count": 30,
   "metadata": {},
   "outputs": [
    {
     "name": "stdout",
     "output_type": "stream",
     "text": [
      "['jan', 'feb', 'march']\n",
      "['jan', 'feb', 'march']\n"
     ]
    }
   ],
   "source": [
    "#Q No 4(c)\n",
    "monthsL=['jan','feb','march','may']\n",
    "monthsT=['jan','feb','march','may']\n",
    "monthsT.pop()\n",
    "print(monthsT)\n",
    "monthsL.pop()\n",
    "print(monthsL)"
   ]
  },
  {
   "cell_type": "code",
   "execution_count": 42,
   "metadata": {
    "scrolled": true
   },
   "outputs": [
    {
     "name": "stdout",
     "output_type": "stream",
     "text": [
      "['jan', 'march', 'may']\n",
      "['jan', 'march', 'may']\n"
     ]
    }
   ],
   "source": [
    "#Q No 4(d)\n",
    "monthsL=['jan','feb','march','may']\n",
    "monthsT=['jan','feb','march','may']\n",
    "del (monthsL[1])\n",
    "print(monthsL)\n",
    "del (monthsT[1])\n",
    "print(monthsT)\n"
   ]
  },
  {
   "cell_type": "code",
   "execution_count": 45,
   "metadata": {
    "scrolled": true
   },
   "outputs": [
    {
     "name": "stdout",
     "output_type": "stream",
     "text": [
      "['may', 'march', 'feb', 'jan']\n",
      "['may', 'march', 'feb', 'jan']\n"
     ]
    }
   ],
   "source": [
    "#Q No 4(e)\n",
    "monthsL=['jan','feb','march','may']\n",
    "monthsT=['jan','feb','march','may']\n",
    "monthsL.reverse()\n",
    "print(monthsL)\n",
    "monthsT.reverse()\n",
    "print(monthsT)\n"
   ]
  },
  {
   "cell_type": "code",
   "execution_count": 47,
   "metadata": {},
   "outputs": [
    {
     "name": "stdout",
     "output_type": "stream",
     "text": [
      "['feb', 'jan', 'march', 'may']\n",
      "['feb', 'jan', 'march', 'may']\n"
     ]
    }
   ],
   "source": [
    "#Q No 4(f)\n",
    "monthsL=['jan','feb','march','may']\n",
    "monthsT=['jan','feb','march','may']\n",
    "monthsL.sort()\n",
    "print(monthsL)\n",
    "monthsT.sort()\n",
    "print(monthsT)"
   ]
  },
  {
   "cell_type": "code",
   "execution_count": 8,
   "metadata": {},
   "outputs": [
    {
     "name": "stdout",
     "output_type": "stream",
     "text": [
      "it is 1 greater\n"
     ]
    }
   ],
   "source": [
    "#Q No 5 \n",
    "fword=len(\"anachronistically\")\n",
    "secondword=len(\"counterintuitive\")\n",
    "if fword>secondword:\n",
    "    print(\"it is 1 greater\")\n",
    "else:\n",
    "    print(\"same\")"
   ]
  },
  {
   "cell_type": "code",
   "execution_count": 9,
   "metadata": {},
   "outputs": [
    {
     "name": "stdout",
     "output_type": "stream",
     "text": [
      "No\n"
     ]
    }
   ],
   "source": [
    "#Q No 5 \n",
    "word=\"floccinaucinihilipification\"\n",
    "find=\"e\"\n",
    "if find in word:\n",
    "    print(\"Yes\")\n",
    "else:\n",
    "    print(\"No\")"
   ]
  },
  {
   "cell_type": "code",
   "execution_count": 16,
   "metadata": {},
   "outputs": [
    {
     "name": "stdout",
     "output_type": "stream",
     "text": [
      "enter the value on X plane :12\n",
      "enter the value on Y plane :0\n",
      "False\n"
     ]
    }
   ],
   "source": [
    "#Q 7\n",
    "x=int(input(\"enter the value on X plane :\"))\n",
    "y=int(input(\"enter the value on Y plane :\"))\n",
    "if x<=10 and y<=10:\n",
    "    print(\"True\")\n",
    "else:\n",
    "    print(\"False\")"
   ]
  },
  {
   "cell_type": "code",
   "execution_count": 18,
   "metadata": {},
   "outputs": [
    {
     "name": "stdout",
     "output_type": "stream",
     "text": [
      "True\n",
      "True\n",
      "True\n",
      "True\n"
     ]
    }
   ],
   "source": [
    "#Q 7 part(a)\n",
    "x=0\n",
    "y=0\n",
    "if x<=10 and y<=10:\n",
    "    print(\"True\")\n",
    "else:\n",
    "    print(\"False\")\n",
    "  \n",
    "#part(b)\n",
    "x=10\n",
    "y=10\n",
    "if x<=10 and y<=10:\n",
    "    print(\"True\")\n",
    "else:\n",
    "    print(\"False\")\n",
    "    \n",
    "#part(c)\n",
    "x=6\n",
    "y=6\n",
    "if x<=10 and y<=10:\n",
    "    print(\"True\")\n",
    "else:\n",
    "    print(\"False\")\n",
    "    \n",
    "#part(d)\n",
    "x=7\n",
    "y=8\n",
    "if x<=10 and y<=10:\n",
    "    print(\"True\")\n",
    "else:\n",
    "    print(\"False\")"
   ]
  },
  {
   "cell_type": "code",
   "execution_count": 22,
   "metadata": {},
   "outputs": [
    {
     "name": "stdout",
     "output_type": "stream",
     "text": [
      "6\n",
      "7\n",
      "6.5\n",
      "['paper', 'staples', 'pencils']\n",
      "John Fitzgerald Kennedy \n"
     ]
    }
   ],
   "source": [
    "#Q No 6\n",
    "#assigning values to varabl 'a' and 'b'\n",
    "a=6\n",
    "b=7\n",
    "print(a)\n",
    "print(b)\n",
    "\n",
    "#part b\n",
    "c=(a+b)/2\n",
    "print(c)\n",
    "\n",
    "#part (c)\n",
    "original_list=['paper','staples','pencils']\n",
    "inventory=list(original_list)\n",
    "print(inventory)\n",
    "\n",
    "#part (d)\n",
    "fname=str('John ')\n",
    "middlename=str('Fitzgerald ')\n",
    "lastname=str('Kennedy ')\n",
    "\n",
    "#part(e)\n",
    "fullname=str(fname+middlename+lastname)\n",
    "print(fullname)"
   ]
  }
 ],
 "metadata": {
  "kernelspec": {
   "display_name": "Python 3",
   "language": "python",
   "name": "python3"
  },
  "language_info": {
   "codemirror_mode": {
    "name": "ipython",
    "version": 3
   },
   "file_extension": ".py",
   "mimetype": "text/x-python",
   "name": "python",
   "nbconvert_exporter": "python",
   "pygments_lexer": "ipython3",
   "version": "3.7.3"
  }
 },
 "nbformat": 4,
 "nbformat_minor": 2
}
