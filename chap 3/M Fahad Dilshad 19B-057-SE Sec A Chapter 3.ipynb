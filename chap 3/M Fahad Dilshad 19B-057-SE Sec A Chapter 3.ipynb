{
 "cells": [
  {
   "cell_type": "markdown",
   "metadata": {},
   "source": [
    "# Practise Problem NO 3.1"
   ]
  },
  {
   "cell_type": "code",
   "execution_count": 1,
   "metadata": {},
   "outputs": [
    {
     "name": "stdout",
     "output_type": "stream",
     "text": [
      "enter the temperature in farenhite:86\n",
      "The temperature in celcius is: 30.0\n"
     ]
    }
   ],
   "source": [
    "farh=eval(input(\"enter the temperature in farenhite:\"))\n",
    "cel=(farh-32)*5/9\n",
    "print(\"The temperature in celcius is:\",cel)"
   ]
  },
  {
   "cell_type": "markdown",
   "metadata": {},
   "source": [
    "# Practise Problem NO 3.2"
   ]
  },
  {
   "cell_type": "code",
   "execution_count": 3,
   "metadata": {
    "scrolled": true
   },
   "outputs": [
    {
     "name": "stdout",
     "output_type": "stream",
     "text": [
      "Enter the age:63\n",
      "You can get your pension benefits\n",
      "Enter the name:'fahad'\n",
      "sorry\n"
     ]
    }
   ],
   "source": [
    "#Part(a)\n",
    "age=eval(input(\"Enter the age:\"))\n",
    "if age>62:\n",
    "    print(\"You can get your pension benefits\")\n",
    "list=['Musial','Aaron','Williams','Gehrig','Ruth']\n",
    "name=eval(input(\"Enter the name:\"))\n",
    "if name  in list:\n",
    "    print(\"One of the top 5 baseball players, ever!\")\n",
    "else:\n",
    "    print(\"sorry\")"
   ]
  },
  {
   "cell_type": "code",
   "execution_count": 4,
   "metadata": {},
   "outputs": [
    {
     "name": "stdout",
     "output_type": "stream",
     "text": [
      "You're dead ..\n"
     ]
    }
   ],
   "source": [
    "#Part(b)\n",
    "hits=10\n",
    "if hits>=10:\n",
    "    print(\"You\\'re dead ..\") \n",
    "else:\n",
    "    print(\"sorry\")"
   ]
  },
  {
   "cell_type": "code",
   "execution_count": 4,
   "metadata": {},
   "outputs": [
    {
     "name": "stdout",
     "output_type": "stream",
     "text": [
      "I can escape.\n"
     ]
    }
   ],
   "source": [
    "#Part(c)\n",
    "x='west'\n",
    "if 'north' or 'south' or 'east' or 'west':\n",
    "    print('I can escape.') "
   ]
  },
  {
   "cell_type": "markdown",
   "metadata": {},
   "source": [
    "# Practise Problem NO 3.3"
   ]
  },
  {
   "cell_type": "code",
   "execution_count": 6,
   "metadata": {},
   "outputs": [
    {
     "name": "stdout",
     "output_type": "stream",
     "text": [
      "enter the year:8\n",
      "Could be a leap year\n"
     ]
    }
   ],
   "source": [
    "#Part(a)\n",
    "year=eval(input(\"enter the year:\"))\n",
    "if year%4==0:\n",
    "    print(\"Could be a leap year\")\n",
    "else:\n",
    "    print(\"Better luck next time\")"
   ]
  },
  {
   "cell_type": "code",
   "execution_count": 7,
   "metadata": {},
   "outputs": [
    {
     "name": "stdout",
     "output_type": "stream",
     "text": [
      "Better luck next time\n"
     ]
    }
   ],
   "source": [
    "#Part(b)\n",
    "ticket=['67898']\n",
    "lottery=['6789']\n",
    "if str(ticket)==str(lottery):\n",
    "    print(\"You won\")\n",
    "else:\n",
    "    print(\"Better luck next time\")"
   ]
  },
  {
   "cell_type": "markdown",
   "metadata": {},
   "source": [
    "# Practise Problem NO 3.4"
   ]
  },
  {
   "cell_type": "code",
   "execution_count": 8,
   "metadata": {},
   "outputs": [
    {
     "name": "stdout",
     "output_type": "stream",
     "text": [
      "Login: fahad\n",
      "User unknown.\n",
      "Done.\n"
     ]
    }
   ],
   "source": [
    "users = ['joe', 'sue', 'hani', 'sophie'] \n",
    "id = input('Login: ')\n",
    "if id in users:\n",
    "    print('You are in!') \n",
    "else:\n",
    "    print('User unknown.') \n",
    "    print('Done.') "
   ]
  },
  {
   "cell_type": "markdown",
   "metadata": {},
   "source": [
    "# Practise Problem NO 3.5"
   ]
  },
  {
   "cell_type": "code",
   "execution_count": 9,
   "metadata": {},
   "outputs": [
    {
     "name": "stdout",
     "output_type": "stream",
     "text": [
      "stop\n",
      "top\n",
      "post\n"
     ]
    }
   ],
   "source": [
    "word_list=['stop', 'desktop', 'top', 'post']\n",
    "for word in word_list:\n",
    "    if len(word)==4:\n",
    "        print(word)\n",
    "    if len(word)==3:\n",
    "        print(word)"
   ]
  },
  {
   "cell_type": "markdown",
   "metadata": {},
   "source": [
    "# Practise Problem NO 3.6"
   ]
  },
  {
   "cell_type": "code",
   "execution_count": 10,
   "metadata": {},
   "outputs": [
    {
     "name": "stdout",
     "output_type": "stream",
     "text": [
      "0\n",
      "1\n",
      "2\n",
      "3\n",
      "4\n",
      "5\n",
      "6\n",
      "7\n",
      "8\n",
      "9\n"
     ]
    }
   ],
   "source": [
    "#Part(a)\n",
    "for i in range(10):\n",
    "    print(i)\n"
   ]
  },
  {
   "cell_type": "code",
   "execution_count": 11,
   "metadata": {},
   "outputs": [
    {
     "name": "stdout",
     "output_type": "stream",
     "text": [
      "0\n",
      "1\n"
     ]
    }
   ],
   "source": [
    "#Part(b)\n",
    "for i in range(2):\n",
    "    print(i)"
   ]
  },
  {
   "cell_type": "markdown",
   "metadata": {},
   "source": [
    "# Practise Problem NO 3.7"
   ]
  },
  {
   "cell_type": "code",
   "execution_count": 12,
   "metadata": {},
   "outputs": [
    {
     "name": "stdout",
     "output_type": "stream",
     "text": [
      "3\n",
      "4\n",
      "5\n",
      "6\n",
      "7\n",
      "8\n",
      "9\n",
      "10\n",
      "11\n",
      "12\n"
     ]
    }
   ],
   "source": [
    "#Part(A)\n",
    "for i in range(3,13):\n",
    "    print(i)"
   ]
  },
  {
   "cell_type": "code",
   "execution_count": 13,
   "metadata": {},
   "outputs": [
    {
     "name": "stdout",
     "output_type": "stream",
     "text": [
      "0\n",
      "2\n",
      "4\n",
      "6\n",
      "8\n"
     ]
    }
   ],
   "source": [
    "#Part(b)\n",
    "for i in range(0,9,2):\n",
    "    print(i)"
   ]
  },
  {
   "cell_type": "code",
   "execution_count": 14,
   "metadata": {},
   "outputs": [
    {
     "name": "stdout",
     "output_type": "stream",
     "text": [
      "0\n",
      "3\n",
      "6\n",
      "9\n",
      "12\n",
      "15\n",
      "18\n",
      "21\n"
     ]
    }
   ],
   "source": [
    "#Part(c)\n",
    "for i in range(0,24,3):\n",
    "    print(i)"
   ]
  },
  {
   "cell_type": "code",
   "execution_count": 15,
   "metadata": {},
   "outputs": [
    {
     "name": "stdout",
     "output_type": "stream",
     "text": [
      "0\n",
      "5\n",
      "10\n"
     ]
    }
   ],
   "source": [
    "#Part(D)\n",
    "for i in range(0,12,5):\n",
    "    print(i)"
   ]
  },
  {
   "cell_type": "markdown",
   "metadata": {},
   "source": [
    "# Practise Problem NO 3.8"
   ]
  },
  {
   "cell_type": "code",
   "execution_count": 16,
   "metadata": {},
   "outputs": [
    {
     "name": "stdout",
     "output_type": "stream",
     "text": [
      "The perimeter of a circle is: 31.41592653589793\n"
     ]
    }
   ],
   "source": [
    "def perimeter():\n",
    "    import math\n",
    "    radius=5\n",
    "    perimeter=2*math.pi*radius\n",
    "    print(\"The perimeter of a circle is:\",perimeter)\n",
    "perimeter()"
   ]
  },
  {
   "cell_type": "markdown",
   "metadata": {},
   "source": [
    "# Practise Problem NO 3.9"
   ]
  },
  {
   "cell_type": "code",
   "execution_count": 17,
   "metadata": {},
   "outputs": [
    {
     "name": "stdout",
     "output_type": "stream",
     "text": [
      "The average of x and y is: 7.0\n"
     ]
    }
   ],
   "source": [
    "def average():\n",
    "    x=6\n",
    "    y=8\n",
    "    average=(x+y)/2\n",
    "    print(\"The average of x and y is:\",average)\n",
    "average()"
   ]
  },
  {
   "cell_type": "markdown",
   "metadata": {},
   "source": [
    "# Practise Problem NO 3.10"
   ]
  },
  {
   "cell_type": "code",
   "execution_count": 18,
   "metadata": {},
   "outputs": [
    {
     "data": {
      "text/plain": [
       "True"
      ]
     },
     "execution_count": 18,
     "metadata": {},
     "output_type": "execute_result"
    }
   ],
   "source": [
    "def noVowel(s):\n",
    "    \n",
    "    for c in s: \n",
    "        if c in 'aeiouAEIOU': \n",
    "            return False\n",
    "    return True\n",
    "noVowel('pk')"
   ]
  },
  {
   "cell_type": "code",
   "execution_count": 19,
   "metadata": {},
   "outputs": [
    {
     "data": {
      "text/plain": [
       "False"
      ]
     },
     "execution_count": 19,
     "metadata": {},
     "output_type": "execute_result"
    }
   ],
   "source": [
    "def noVowel(s): \n",
    "    for c in s: \n",
    "        if c in 'aeiouAEIOU': \n",
    "            return False        \n",
    "    return True\n",
    "noVowel('pakistan')"
   ]
  },
  {
   "cell_type": "markdown",
   "metadata": {},
   "source": [
    "# Practise Problem NO 3.11"
   ]
  },
  {
   "cell_type": "code",
   "execution_count": 20,
   "metadata": {},
   "outputs": [
    {
     "data": {
      "text/plain": [
       "False"
      ]
     },
     "execution_count": 20,
     "metadata": {},
     "output_type": "execute_result"
    }
   ],
   "source": [
    "def allEven(numList):\n",
    "    'return True is all integers in numList are even, False otherwise'\n",
    "    for num in numList: \n",
    "        if num%2 != 0:\n",
    "            return False\n",
    "    return True\n",
    "allEven([1,2,3,4,5,6,7,8,9])"
   ]
  },
  {
   "cell_type": "code",
   "execution_count": 21,
   "metadata": {},
   "outputs": [
    {
     "data": {
      "text/plain": [
       "True"
      ]
     },
     "execution_count": 21,
     "metadata": {},
     "output_type": "execute_result"
    }
   ],
   "source": [
    "def Even(numList):\n",
    "    'return True is all integers in numList are even, False otherwise'\n",
    "    for num in numList: \n",
    "        if num%2 == 0:\n",
    "            return True\n",
    "    return false\n",
    "Even([2,4,6,8,10,12,14,16])"
   ]
  },
  {
   "cell_type": "markdown",
   "metadata": {},
   "source": [
    "# Practise Problem NO 3.12"
   ]
  },
  {
   "cell_type": "code",
   "execution_count": 22,
   "metadata": {},
   "outputs": [
    {
     "name": "stdout",
     "output_type": "stream",
     "text": [
      "-3\n",
      "-6\n"
     ]
    }
   ],
   "source": [
    "def numbers():\n",
    "    list=[1,2,-3,4,5,-6]\n",
    "    for i in list:\n",
    "        if i<0:\n",
    "            print(i)\n",
    "numbers()"
   ]
  },
  {
   "cell_type": "markdown",
   "metadata": {},
   "source": [
    "# Practise Problem NO 3.15"
   ]
  },
  {
   "cell_type": "code",
   "execution_count": 28,
   "metadata": {},
   "outputs": [
    {
     "name": "stdout",
     "output_type": "stream",
     "text": [
      "['haris', 'azhar', 'asad', 'babar']\n"
     ]
    }
   ],
   "source": [
    "team=['babar','azhar','asad','haris']\n",
    "team[0],team[3]=team[3],team[0]\n",
    "print(team)"
   ]
  },
  {
   "cell_type": "code",
   "execution_count": null,
   "metadata": {},
   "outputs": [],
   "source": [
    "# Practise Problem NO 3.16"
   ]
  },
  {
   "cell_type": "code",
   "execution_count": 26,
   "metadata": {},
   "outputs": [
    {
     "name": "stdout",
     "output_type": "stream",
     "text": [
      "['apples', 'sugar', 'butter', 'flour']\n"
     ]
    }
   ],
   "source": [
    "def swapFL():\n",
    "    list= ['flour', 'sugar', 'butter', 'apples'] \n",
    "    list[0],list[3]=list[3],list[0]\n",
    "    print(list)\n",
    "swapFL()"
   ]
  },
  {
   "cell_type": "code",
   "execution_count": null,
   "metadata": {},
   "outputs": [],
   "source": [
    "#Problem no 3.17"
   ]
  },
  {
   "cell_type": "code",
   "execution_count": 27,
   "metadata": {},
   "outputs": [
    {
     "name": "stdout",
     "output_type": "stream",
     "text": [
      "7\n",
      "hello\n",
      "helloworld\n",
      "5\n"
     ]
    }
   ],
   "source": [
    "x=2*3+1\n",
    "print(x)\n",
    "x='hello'\n",
    "print(x)\n",
    "x='hello'+''+'world'\n",
    "print(x)\n",
    "x='5'\n",
    "print(x)"
   ]
  },
  {
   "cell_type": "code",
   "execution_count": null,
   "metadata": {},
   "outputs": [],
   "source": [
    "# Practise Problem NO 3.18"
   ]
  },
  {
   "cell_type": "code",
   "execution_count": 28,
   "metadata": {},
   "outputs": [
    {
     "name": "stdout",
     "output_type": "stream",
     "text": [
      "ok\n"
     ]
    }
   ],
   "source": [
    "a=3\n",
    "b=4\n",
    "c=5\n",
    "if a<b:\n",
    "    print(\"ok\")\n",
    "if c<b:\n",
    "    print(\"ok\")\n",
    "if a+b==c:\n",
    "    print(\"ok\")\n",
    "if (a+b)**2==c**2:\n",
    "    print(\"ok\")"
   ]
  },
  {
   "cell_type": "code",
   "execution_count": null,
   "metadata": {},
   "outputs": [],
   "source": [
    "# Practise Problem NO 3.19"
   ]
  },
  {
   "cell_type": "code",
   "execution_count": 29,
   "metadata": {},
   "outputs": [
    {
     "name": "stdout",
     "output_type": "stream",
     "text": [
      "ok\n",
      "Not ok\n",
      "Not ok\n",
      "Not ok\n"
     ]
    }
   ],
   "source": [
    "a=3\n",
    "b=4\n",
    "c=5\n",
    "if a<b:\n",
    "    print(\"ok\")\n",
    "if c<b:\n",
    "    print(\"ok\")\n",
    "else:\n",
    "    print(\"Not ok\")\n",
    "if a+b==c:\n",
    "    print(\"ok\")\n",
    "else:\n",
    "    print(\"Not ok\")\n",
    "if (a+b)**2==c**2:\n",
    "    print(\"ok\")\n",
    "else:\n",
    "    print(\"Not ok\")\n",
    "    "
   ]
  },
  {
   "cell_type": "code",
   "execution_count": 30,
   "metadata": {},
   "outputs": [
    {
     "name": "stdout",
     "output_type": "stream",
     "text": [
      "Jan\n",
      "Feb\n",
      "Mar\n"
     ]
    }
   ],
   "source": [
    "## Practise Problem NO 3.20\n",
    "months=['January','Febuary','March']\n",
    "for words in months:\n",
    "    print(words[:3])"
   ]
  },
  {
   "cell_type": "code",
   "execution_count": null,
   "metadata": {},
   "outputs": [],
   "source": [
    "# Practise Problem NO 3.21"
   ]
  },
  {
   "cell_type": "code",
   "execution_count": 31,
   "metadata": {},
   "outputs": [
    {
     "name": "stdout",
     "output_type": "stream",
     "text": [
      "2\n",
      "4\n",
      "6\n",
      "8\n",
      "10\n",
      "12\n",
      "14\n",
      "16\n",
      "18\n"
     ]
    }
   ],
   "source": [
    "def divisible():\n",
    "    for num in range(1,20):\n",
    "        if num %2==0:\n",
    "            print(num)\n",
    "divisible()"
   ]
  },
  {
   "cell_type": "code",
   "execution_count": null,
   "metadata": {},
   "outputs": [],
   "source": [
    "# Practise Problem NO 3.22"
   ]
  },
  {
   "cell_type": "code",
   "execution_count": 32,
   "metadata": {},
   "outputs": [
    {
     "name": "stdout",
     "output_type": "stream",
     "text": [
      "4\n",
      "8\n",
      "12\n",
      "16\n"
     ]
    }
   ],
   "source": [
    "def Even():\n",
    "    for num in range(1,20):\n",
    "        if num**2 %8==0:\n",
    "            print(num)\n",
    "Even()"
   ]
  },
  {
   "cell_type": "code",
   "execution_count": 33,
   "metadata": {},
   "outputs": [
    {
     "name": "stdout",
     "output_type": "stream",
     "text": [
      "0 1  \n",
      " \n",
      "3 4 5 6  \n",
      "1  \n",
      "0 1 2 3  \n",
      "5 9 13 17 21 "
     ]
    }
   ],
   "source": [
    "## Practise Problem NO 3.23\n",
    "for i in range(2):\n",
    "    print(i,end=(\" \"))\n",
    "print(\" \")\n",
    "for i in range(0):\n",
    "    print(i,end=(\" \"))\n",
    "print(\" \")\n",
    "for i in range(3,7):\n",
    "    print(i,end=(\" \"))\n",
    "print(\" \")\n",
    "for i in range(1,2):\n",
    "    print(i,end=(\" \"))\n",
    "print(\" \")\n",
    "for i in range(4):\n",
    "    print(i,end=(\" \"))\n",
    "print(\" \")\n",
    "for i in range(5,22,4):\n",
    "    print(i,end=(\" \"))"
   ]
  },
  {
   "cell_type": "code",
   "execution_count": 34,
   "metadata": {},
   "outputs": [
    {
     "name": "stdout",
     "output_type": "stream",
     "text": [
      "Enter list of words: sia\n",
      "Enter list of words: secret\n",
      "Enter list of words: mi6\n",
      "Enter list of words: secret\n",
      "Enter list of words: fia\n",
      "Enter list of words: isi\n",
      "['sia', 'secret', 'mi6', 'secret', 'fia', 'isi']\n",
      "sia\n",
      "mi6\n",
      "fia\n",
      "isi\n"
     ]
    }
   ],
   "source": [
    "## Practise Problem NO 3.24\n",
    "list=['','','','','','']\n",
    "for i in range(6):\n",
    "    list[i] = input(\"Enter list of words: \" )\n",
    "print(list)\n",
    "for word in list:\n",
    "    if word != 'secret':\n",
    "        print(word)"
   ]
  },
  {
   "cell_type": "code",
   "execution_count": 35,
   "metadata": {},
   "outputs": [
    {
     "name": "stdout",
     "output_type": "stream",
     "text": [
      "Enter list of words: Asad\n",
      "Enter list of words: Rao Fahad\n",
      "Enter list of words: Babar\n",
      "Enter list of words: Anwaar\n",
      "Enter list of words: Jibran\n",
      "['Asad', 'Rao Fahad', 'Babar', 'Anwaar', 'Jibran']\n",
      "Asad\n",
      "Babar\n",
      "Anwaar\n",
      "Jibran\n"
     ]
    }
   ],
   "source": [
    "## Practise Problem NO 3.25\n",
    "team=['','','','','']\n",
    "for i in range(5):\n",
    "    team[i] = input(\"Enter list of words: \" )\n",
    "print(team)\n",
    "for word in team:\n",
    "    if word[0] >= \"A\" and word[0] <= \"M\":\n",
    "        print(word)"
   ]
  },
  {
   "cell_type": "code",
   "execution_count": 36,
   "metadata": {},
   "outputs": [
    {
     "name": "stdout",
     "output_type": "stream",
     "text": [
      "The first element of list is: 1\n",
      "The last element of list is: 6\n"
     ]
    }
   ],
   "source": [
    "# Practise Problem NO 3.26\n",
    "list=[1,2,3,4,5,6]\n",
    "a=list[0]\n",
    "b=list[5]\n",
    "print(\"The first element of list is:\",a)\n",
    "print(\"The last element of list is:\",b)"
   ]
  },
  {
   "cell_type": "code",
   "execution_count": 37,
   "metadata": {},
   "outputs": [
    {
     "name": "stdout",
     "output_type": "stream",
     "text": [
      "enter a number:5\n",
      "0\n",
      "5\n",
      "10\n",
      "15\n"
     ]
    }
   ],
   "source": [
    "# Practise Problem NO 3.27\n",
    "x=eval(input(\"enter a number:\"))\n",
    "for i in range(4):\n",
    "    print(x*i)"
   ]
  },
  {
   "cell_type": "code",
   "execution_count": 38,
   "metadata": {},
   "outputs": [
    {
     "name": "stdout",
     "output_type": "stream",
     "text": [
      "enter a number:3\n",
      "0\n",
      "1\n",
      "4\n"
     ]
    }
   ],
   "source": [
    "# Practise Problem NO 3.28\n",
    "x=eval(input(\"enter a number:\"))\n",
    "for i in range(3):\n",
    "    print(i**2)"
   ]
  },
  {
   "cell_type": "code",
   "execution_count": 39,
   "metadata": {},
   "outputs": [
    {
     "name": "stdout",
     "output_type": "stream",
     "text": [
      "Enter a number : 49\n",
      "1\n",
      "7\n",
      "49\n"
     ]
    }
   ],
   "source": [
    "# Practise Problem NO 3.29\n",
    "x = eval(input(\"Enter a number : \"))\n",
    "for i in range(1,x+1):\n",
    "    if x%i==0:\n",
    "        print(i)"
   ]
  },
  {
   "cell_type": "code",
   "execution_count": 42,
   "metadata": {},
   "outputs": [
    {
     "name": "stdout",
     "output_type": "stream",
     "text": [
      "enter first number:4.5\n",
      "enter second number:3\n",
      "enter third number:3\n",
      "enter fourth number:3.5\n",
      "Equal\n"
     ]
    }
   ],
   "source": [
    "# Practise Problem NO 3.30\n",
    "first_number=float(input(\"enter first number:\"))\n",
    "second_number=int(input(\"enter second number:\"))\n",
    "third_number=int(input(\"enter third number:\"))\n",
    "fourth_number=float(input(\"enter fourth number:\"))\n",
    "average=(first_number+second_number+third_number)/3\n",
    "if str(average)==str(fourth_number):\n",
    "    print(\"Equal\")"
   ]
  },
  {
   "cell_type": "code",
   "execution_count": 43,
   "metadata": {},
   "outputs": [
    {
     "name": "stdout",
     "output_type": "stream",
     "text": [
      "Enter x: 2.5\n",
      "Enter y: 4\n",
      "It is in!\n"
     ]
    }
   ],
   "source": [
    "# Practise Problem NO 3.31\n",
    "x = eval(input(\"Enter x: \" ))\n",
    "y = eval(input(\"Enter y: \" ))\n",
    "if x**2+y**2 < 8**2:\n",
    "    print(\"It is in!\")"
   ]
  },
  {
   "cell_type": "code",
   "execution_count": 44,
   "metadata": {},
   "outputs": [
    {
     "name": "stdout",
     "output_type": "stream",
     "text": [
      "natsikap\n"
     ]
    }
   ],
   "source": [
    "# Practise Problem NO 3.33\n",
    "a=('pakistan')\n",
    "reverse=''.join(reversed(a))\n",
    "print(reverse)"
   ]
  },
  {
   "cell_type": "code",
   "execution_count": 45,
   "metadata": {},
   "outputs": [
    {
     "data": {
      "text/plain": [
       "1800.0"
      ]
     },
     "execution_count": 45,
     "metadata": {},
     "output_type": "execute_result"
    }
   ],
   "source": [
    "# Practise Problem NO 3.34\n",
    "def pay(x,y):\n",
    "    time = x * y\n",
    "    if y > 40:\n",
    "        time = time + (1.5*x)*y\n",
    "    return time\n",
    "pay(12,60)"
   ]
  },
  {
   "cell_type": "code",
   "execution_count": 46,
   "metadata": {},
   "outputs": [
    {
     "data": {
      "text/plain": [
       "0.25"
      ]
     },
     "execution_count": 46,
     "metadata": {},
     "output_type": "execute_result"
    }
   ],
   "source": [
    "# Practise Problem NO 3.35\n",
    "def prob():\n",
    "    x=2\n",
    "    return 2**(-x)\n",
    "prob()"
   ]
  },
  {
   "cell_type": "code",
   "execution_count": 47,
   "metadata": {},
   "outputs": [
    {
     "name": "stdout",
     "output_type": "stream",
     "text": [
      "Mon\n"
     ]
    }
   ],
   "source": [
    "# Practise Problem NO 3.38\n",
    "def abbreviation():\n",
    "    month=('Monday')\n",
    "    print(month[:3])\n",
    "abbreviation()"
   ]
  },
  {
   "cell_type": "code",
   "execution_count": 48,
   "metadata": {},
   "outputs": [
    {
     "name": "stdout",
     "output_type": "stream",
     "text": [
      "Messi\n",
      "Mustafa\n"
     ]
    }
   ],
   "source": [
    "# Practise Problem NO 3.40\n",
    "def partition(lst):\n",
    "    for name in lst:\n",
    "        if name[0] >= \"A\" and name[0] <= \"M\":\n",
    "            print(name)\n",
    "partition(['Ronaldo','Messi','Mustafa','Salaman'])"
   ]
  },
  {
   "cell_type": "code",
   "execution_count": 21,
   "metadata": {},
   "outputs": [
    {
     "data": {
      "text/plain": [
       "'Fahad,R'"
      ]
     },
     "execution_count": 21,
     "metadata": {},
     "output_type": "execute_result"
    }
   ],
   "source": [
    "# Practise Problem NO 3.41\n",
    "def lastF(firstname,lastname):\n",
    "    return lastname +\",\" +firstname[:1]\n",
    "lastF('Rao','Fahad')"
   ]
  },
  {
   "cell_type": "code",
   "execution_count": 49,
   "metadata": {},
   "outputs": [
    {
     "name": "stdout",
     "output_type": "stream",
     "text": [
      "90.0\n",
      "60.0\n",
      "87.0\n",
      "11.0\n"
     ]
    }
   ],
   "source": [
    "# Practise Problem NO 3.42\n",
    "def avg(lists):\n",
    "    for lst in lists:\n",
    "        print(sum(lst)/len(lst))\n",
    "avg([[95, 92, 86, 87], [66, 54], [89, 72, 100], [33, 0, 0]])"
   ]
  },
  {
   "cell_type": "code",
   "execution_count": 50,
   "metadata": {},
   "outputs": [
    {
     "name": "stdout",
     "output_type": "stream",
     "text": [
      "True\n",
      "False\n"
     ]
    }
   ],
   "source": [
    "# Practise Problem NO 3.43\n",
    "import math\n",
    "def hit(x1,y1,r,x2,y2):\n",
    "    if(math.sqrt((x1-x2)**2+(y1-y2)**2) > r):\n",
    "        print(False)\n",
    "    else:\n",
    "        print(True)\n",
    "hit(0, 0, 3, 3, 0)\n",
    "hit(0, 0, 3, 4, 0)"
   ]
  },
  {
   "cell_type": "code",
   "execution_count": 51,
   "metadata": {},
   "outputs": [
    {
     "name": "stdout",
     "output_type": "stream",
     "text": [
      "Distance is :  1.0208700000000002 km\n"
     ]
    }
   ],
   "source": [
    "## Practise Problem NO 3.44\n",
    "\n",
    "def distance(x):\n",
    "    d = x*(340.29/1000)\n",
    "    print(\"Distance is : \",d,\"km\")\n",
    "distance(3)"
   ]
  }
 ],
 "metadata": {
  "kernelspec": {
   "display_name": "Python 3",
   "language": "python",
   "name": "python3"
  },
  "language_info": {
   "codemirror_mode": {
    "name": "ipython",
    "version": 3
   },
   "file_extension": ".py",
   "mimetype": "text/x-python",
   "name": "python",
   "nbconvert_exporter": "python",
   "pygments_lexer": "ipython3",
   "version": "3.7.3"
  }
 },
 "nbformat": 4,
 "nbformat_minor": 2
}
