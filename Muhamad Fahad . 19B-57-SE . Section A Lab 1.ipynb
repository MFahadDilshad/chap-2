{
 "cells": [
  {
   "cell_type": "code",
   "execution_count": 1,
   "metadata": {},
   "outputs": [
    {
     "name": "stdout",
     "output_type": "stream",
     "text": [
      "enter the temperature43\n",
      "Temperature in ferenhiet is 44.8\n"
     ]
    }
   ],
   "source": [
    "a=int(input(\"enter the temperature\"))\n",
    "b=(9/5 + a)\n",
    "print(\"Temperature in ferenhiet is\",b)"
   ]
  },
  {
   "cell_type": "code",
   "execution_count": 2,
   "metadata": {},
   "outputs": [
    {
     "name": "stdout",
     "output_type": "stream",
     "text": [
      "enter the temperature65\n",
      "Temperature in centigrade is 53.88888888888889\n"
     ]
    }
   ],
   "source": [
    "a=int(input(\"enter the temperature\"))\n",
    "b=(5/9 * (a+32))\n",
    "print(\"Temperature in centigrade is\",b)"
   ]
  },
  {
   "cell_type": "code",
   "execution_count": 3,
   "metadata": {},
   "outputs": [
    {
     "name": "stdout",
     "output_type": "stream",
     "text": [
      "enter the legnth4\n",
      "enter the breadth6\n",
      "the area of rectangle is: 24\n"
     ]
    }
   ],
   "source": [
    "a=int(input(\"enter the legnth\"))\n",
    "b=int(input(\"enter the breadth\"))\n",
    "area= a*b\n",
    "print(\"the area of rectangle is:\",area)"
   ]
  },
  {
   "cell_type": "code",
   "execution_count": 4,
   "metadata": {},
   "outputs": [
    {
     "name": "stdout",
     "output_type": "stream",
     "text": [
      "enter the radius5\n",
      "the volume of sphere is: 523.8\n"
     ]
    }
   ],
   "source": [
    "a=int(input(\"enter the radius\"))\n",
    "v= (4/3)*(3.1428)*(a**3)\n",
    "print(\"the volume of sphere is:\",v)"
   ]
  },
  {
   "cell_type": "code",
   "execution_count": 12,
   "metadata": {},
   "outputs": [
    {
     "name": "stdout",
     "output_type": "stream",
     "text": [
      "FAHAD\n",
      "fahad\n",
      "Fahad\n"
     ]
    }
   ],
   "source": [
    "name=\"fahad\"\n",
    "print(name.upper())\n",
    "print(name.lower())\n",
    "print(name.title())"
   ]
  },
  {
   "cell_type": "code",
   "execution_count": 11,
   "metadata": {},
   "outputs": [
    {
     "name": "stdout",
     "output_type": "stream",
     "text": [
      "what is your namezulfiqaar\n",
      "what is your age76\n",
      "zulfiqaar will be 100 years old in the year: 1843\n"
     ]
    }
   ],
   "source": [
    "name=input(\"what is your name\")\n",
    "age=int(input(\"what is your age\"))\n",
    "year= (2019-(age+100))\n",
    "print(name,\"will be 100 years old in the year:\",year)"
   ]
  },
  {
   "cell_type": "code",
   "execution_count": 16,
   "metadata": {},
   "outputs": [
    {
     "name": "stdout",
     "output_type": "stream",
     "text": [
      "Input the radius of cicle : 4\n",
      "THE area of circle with radius 4.0 is: 50.26548245743669\n"
     ]
    }
   ],
   "source": [
    "from math import pi\n",
    "r=float(input(\"Input the radius of cicle : \"))\n",
    "print(\"THE area of circle with radius \" + str(r)+ \" is: \" + str(pi * r**2))"
   ]
  },
  {
   "cell_type": "code",
   "execution_count": 17,
   "metadata": {},
   "outputs": [
    {
     "name": "stdout",
     "output_type": "stream",
     "text": [
      "input your first nameghori\n",
      "input your last namesikandar\n",
      "Hello  ghori   sikandar\n"
     ]
    }
   ],
   "source": [
    "fname=(input(\"input your first name\"))\n",
    "lname=(input(\"input your last name\"))\n",
    "print(\"Hello \",fname,\" \",lname)"
   ]
  },
  {
   "cell_type": "code",
   "execution_count": 19,
   "metadata": {},
   "outputs": [
    {
     "name": "stdout",
     "output_type": "stream",
     "text": [
      "input the year: 2019\n",
      "enter the month: 5\n",
      "      May 2019\n",
      "Mo Tu We Th Fr Sa Su\n",
      "       1  2  3  4  5\n",
      " 6  7  8  9 10 11 12\n",
      "13 14 15 16 17 18 19\n",
      "20 21 22 23 24 25 26\n",
      "27 28 29 30 31\n",
      "\n"
     ]
    }
   ],
   "source": [
    "import calendar\n",
    "y=int(input(\"input the year: \"))\n",
    "m= int(input(\"enter the month: \"))\n",
    "print(calendar.month(y,m))"
   ]
  },
  {
   "cell_type": "code",
   "execution_count": 22,
   "metadata": {},
   "outputs": [
    {
     "name": "stdout",
     "output_type": "stream",
     "text": [
      "Twinkle,little star,\n",
      "\tHow I wonder what you are!\n",
      "\t\tUp above the world so high\n",
      "\tLike a diamond in the sky\n",
      "Twinkle Twinkle little star\n",
      "\tHow I wonder what you are!\n"
     ]
    }
   ],
   "source": [
    "print(\"Twinkle,little star,\\n\\tHow I wonder what you are!\\n\\t\\tUp above the world so high\\n\\tLike a diamond in the sky\\nTwinkle Twinkle little star\\n\\tHow I wonder what you are!\")"
   ]
  },
  {
   "cell_type": "code",
   "execution_count": 23,
   "metadata": {},
   "outputs": [
    {
     "name": "stdout",
     "output_type": "stream",
     "text": [
      "current date and time:\n",
      "2019-10-23 13:21:34\n"
     ]
    }
   ],
   "source": [
    "import datetime\n",
    "now=datetime.datetime.now()\n",
    "print(\"current date and time:\")\n",
    "print(now.strftime(\"%Y-%m-%d %H:%M:%S\"))"
   ]
  }
 ],
 "metadata": {
  "kernelspec": {
   "display_name": "Python 3",
   "language": "python",
   "name": "python3"
  },
  "language_info": {
   "codemirror_mode": {
    "name": "ipython",
    "version": 3
   },
   "file_extension": ".py",
   "mimetype": "text/x-python",
   "name": "python",
   "nbconvert_exporter": "python",
   "pygments_lexer": "ipython3",
   "version": "3.7.4"
  }
 },
 "nbformat": 4,
 "nbformat_minor": 2
}
