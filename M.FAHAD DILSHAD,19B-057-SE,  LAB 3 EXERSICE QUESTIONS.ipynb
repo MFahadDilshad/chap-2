{
 "cells": [
  {
   "cell_type": "markdown",
   "metadata": {},
   "source": [
    "# lab3"
   ]
  },
  {
   "cell_type": "code",
   "execution_count": 3,
   "metadata": {},
   "outputs": [
    {
     "name": "stdout",
     "output_type": "stream",
     "text": [
      "Given data\n",
      "enter the radius of circle in meter:0.5\n",
      "enter the angular speed in rad/s:10\n",
      "To find\n",
      "the linear velocity   is: 5.0 m/s\n"
     ]
    }
   ],
   "source": [
    "#Q no 1(a)\n",
    "print(\"Given data\")\n",
    "r=float(input(\"enter the radius of circle in meter:\"))\n",
    "w=float(input(\"enter the angular speed in rad/s:\"))  \n",
    "\n",
    "print(\"To find\")\n",
    "#v=linear velocity\n",
    "form=v=r*w\n",
    "print(\"the linear velocity   is:\",form,\"m/s\")"
   ]
  },
  {
   "cell_type": "code",
   "execution_count": 4,
   "metadata": {},
   "outputs": [
    {
     "name": "stdout",
     "output_type": "stream",
     "text": [
      "Given data\n",
      "enter the radius of circle in meter:1\n",
      "enter the angular speed in rad/s:10\n",
      "To find\n",
      "the linear velocity   is: 10.0 m/s\n"
     ]
    }
   ],
   "source": [
    "#Q no 1(b)\n",
    "print(\"Given data\")\n",
    "r=float(input(\"enter the radius of circle in meter:\"))\n",
    "w=float(input(\"enter the angular speed in rad/s:\"))  \n",
    "\n",
    "print(\"To find\")\n",
    "#v=linear velocity\n",
    "form=v=r*w\n",
    "print(\"the linear velocity   is:\",form,\"m/s\")"
   ]
  },
  {
   "cell_type": "code",
   "execution_count": 5,
   "metadata": {},
   "outputs": [
    {
     "name": "stdout",
     "output_type": "stream",
     "text": [
      "Given data\n",
      "enter the radius of circle in meter:2\n",
      "enter the angular speed in rad/s:10\n",
      "To find\n",
      "the linear velocity   is: 20.0 m/s\n"
     ]
    }
   ],
   "source": [
    "#Q no 1(c)\n",
    "print(\"Given data\")\n",
    "r=float(input(\"enter the radius of circle in meter:\"))\n",
    "w=float(input(\"enter the angular speed in rad/s:\"))  \n",
    "\n",
    "print(\"To find\")\n",
    "#v=linear velocity\n",
    "form=v=r*w\n",
    "print(\"the linear velocity   is:\",form,\"m/s\")"
   ]
  },
  {
   "cell_type": "code",
   "execution_count": 4,
   "metadata": {},
   "outputs": [
    {
     "name": "stdout",
     "output_type": "stream",
     "text": [
      "Given Data\n",
      "enter the radius in meters:0.05\n",
      "enter the angular speed in rad/s:523.3\n",
      "To find magnitude of linear velocity:\n",
      "the magnitude of linear velocity   is: 26.165 m/s\n"
     ]
    }
   ],
   "source": [
    "#Q no 2 part(a)\n",
    "print(\"Given Data\")\n",
    "r=float(input(\"enter the radius in meters:\"))\n",
    "w=float(input(\"enter the angular speed in rad/s:\"))\n",
    "\n",
    "print(\"To find magnitude of linear velocity:\")\n",
    "#v=magnitude of linear velocity\n",
    "form=v=r*w\n",
    "print(\"the magnitude of linear velocity   is:\",form,\"m/s\")"
   ]
  },
  {
   "cell_type": "code",
   "execution_count": 5,
   "metadata": {},
   "outputs": [
    {
     "name": "stdout",
     "output_type": "stream",
     "text": [
      "Given Data\n",
      "enter the radius in meters:0.1\n",
      "enter the angular speed in rad/s:523.3\n",
      "To find magnitude of linear velocity:\n",
      "the magnitude of linear velocity is: 52.33 m/s\n"
     ]
    }
   ],
   "source": [
    "#Q no 2 part(b)\n",
    "print(\"Given Data\")\n",
    "r=float(input(\"enter the radius in meters:\"))\n",
    "w=float(input(\"enter the angular speed in rad/s:\"))\n",
    "\n",
    "print(\"To find magnitude of linear velocity:\")\n",
    "#v=magnitude of linear velocity\n",
    "form=v=r*w\n",
    "print(\"the magnitude of linear velocity is:\",form,\"m/s\")"
   ]
  },
  {
   "cell_type": "code",
   "execution_count": 6,
   "metadata": {},
   "outputs": [
    {
     "name": "stdout",
     "output_type": "stream",
     "text": [
      "Given Data\n",
      "enter the radius in meters:0.3\n",
      "enter linear velocity in m/s:10\n",
      "To find:magnitude of angular velocit in rad/s\n",
      "the magnitude of angular velocity=w  is: 33.333333333333336 rad/s\n"
     ]
    }
   ],
   "source": [
    "#Q no 3 \n",
    "print(\"Given Data\")\n",
    "r=float(input(\"enter the radius in meters:\"))\n",
    "v=float(input(\"enter linear velocity in m/s:\"))\n",
    "W=\"angular velocity\"\n",
    "print(\"To find:magnitude of angular velocit in rad/s\")\n",
    "#w=magnitude of angular velocity\n",
    "form=w=v/r\n",
    "print(\"the magnitude of angular velocity=w  is:\",form,\"rad/s\")"
   ]
  },
  {
   "cell_type": "code",
   "execution_count": 7,
   "metadata": {},
   "outputs": [
    {
     "name": "stdout",
     "output_type": "stream",
     "text": [
      "Given Data\n",
      "enter radius in meters:0.25\n",
      "enter linear velocity in m/s:10\n",
      "To find angular speed in rad/s:\n",
      "the angular speed is: 40.0 rad/s\n"
     ]
    }
   ],
   "source": [
    "#Q No 4\n",
    "print(\"Given Data\")\n",
    "r=float(input(\"enter radius in meters:\"))\n",
    "v=float(input(\"enter linear velocity in m/s:\"))\n",
    "w=\"angular velocity\"\n",
    "print(\"To find angular speed in rad/s:\")\n",
    "#angular speed\n",
    "form=w=v/r\n",
    "print(\"the angular speed is:\",form,\"rad/s\")\n"
   ]
  },
  {
   "cell_type": "code",
   "execution_count": 8,
   "metadata": {},
   "outputs": [
    {
     "name": "stdout",
     "output_type": "stream",
     "text": [
      "Given Data\n",
      "enter radius in meters:0.2\n",
      "enter angular velocity in rad/s:12.56\n",
      "enter time in sec:10\n",
      "distance of the car if it travels in 10 sec is: 25.120000000000005 meter\n"
     ]
    }
   ],
   "source": [
    "#Q No 5\n",
    "print(\"Given Data\")\n",
    "r=float(input(\"enter radius in meters:\"))\n",
    "w=float(input(\"enter angular velocity in rad/s:\"))\n",
    "v=w*r\n",
    "\n",
    "t=float(input(\"enter time in sec:\"))\n",
    "s=v*t\n",
    "print(\"distance of the car if it travels in 10 sec is:\",s,\"meter\")\n"
   ]
  },
  {
   "cell_type": "code",
   "execution_count": 3,
   "metadata": {},
   "outputs": [
    {
     "name": "stdout",
     "output_type": "stream",
     "text": [
      "enter velocity(in miles/hour):50\n",
      "enter acceleration(in miles/hour**2):10\n",
      "enter the time(in hours):2\n",
      "the car travels in next 2 hours is: 120.0 miles\n"
     ]
    }
   ],
   "source": [
    "#program 6\n",
    "v=float(input(\"enter velocity(in miles/hour):\"))\n",
    "a=float(input(\"enter acceleration(in miles/hour**2):\"))\n",
    "t=float(input(\"enter the time(in hours):\"))\n",
    "form=s=v*t + 1/2*(a*t**2)\n",
    "print(\"the car travels in next 2 hours is:\",form,\"miles\")"
   ]
  },
  {
   "cell_type": "code",
   "execution_count": 2,
   "metadata": {},
   "outputs": [
    {
     "name": "stdout",
     "output_type": "stream",
     "text": [
      "Enter the initia velocity in ft/s:0\n",
      "Enter the height in feet:100\n",
      "enter the value for acceleration due to gravity in ft/sec**2:32\n",
      "80.0 ft/s\n"
     ]
    }
   ],
   "source": [
    "#Program No 7\n",
    "from math import sqrt\n",
    "u=float(input(\"Enter the initia velocity in ft/s:\"))\n",
    "h=float(input(\"Enter the height in feet:\"))\n",
    "g=float(input(\"enter the value for acceleration due to gravity in ft/sec**2:\"))\n",
    "form=2*g*h+u\n",
    "v=sqrt(form)\n",
    "print(v,\"ft/s\")\n"
   ]
  }
 ],
 "metadata": {
  "kernelspec": {
   "display_name": "Python 3",
   "language": "python",
   "name": "python3"
  },
  "language_info": {
   "codemirror_mode": {
    "name": "ipython",
    "version": 3
   },
   "file_extension": ".py",
   "mimetype": "text/x-python",
   "name": "python",
   "nbconvert_exporter": "python",
   "pygments_lexer": "ipython3",
   "version": "3.7.3"
  }
 },
 "nbformat": 4,
 "nbformat_minor": 2
}
